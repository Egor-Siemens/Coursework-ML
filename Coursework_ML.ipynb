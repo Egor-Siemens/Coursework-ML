{
 "cells": [
  {
   "cell_type": "markdown",
   "metadata": {
    "id": "BBv-oIFLVYRz"
   },
   "source": [
    "# Курсовая работа. Блок ML Beginner\n",
    "<br>\n",
    "\n",
    "**NB!** Код должен быть с комментариями к каждому логическому блоку кода. В противном случае работа **не** будет принята. <br><br>\n",
    "Выполнение курсовой работы может потребовать использование дополнительных библиотек. Может потребоваться предварительная обработка данных.\n",
    "\n",
    "<br><br>\n",
    "**Описание работы:**\n",
    "&nbsp;&nbsp;&nbsp;&nbsp;\n",
    "<br><br>\n",
    "&nbsp;&nbsp;&nbsp;&nbsp; Любой бизнес хочет максимизировать количество клиентов. Для достижения этой цели важно не только пытаться привлечь новых, но и удерживать уже существующих. Удержать клиента обойдется компании дешевле, чем привлечь нового. Кроме того, новый клиент может оказаться слабо заинтересованным в услугах бизнеса и с ним будет сложно работать, тогда как о старых клиентах уже есть необходимые данные по взаимодействию с сервисом. \n",
    " <br>\n",
    "\n",
    "&nbsp;&nbsp;&nbsp;&nbsp; Соответственно, прогнозируя отток, мы можем вовремя среагировать и попытаться удержать клиента, который хочет уйти. Опираясь на данные об услугах, которыми пользуется клиент, мы можем сделать ему специальное предложение, пытаясь изменить его решение об уходе от оператора. Благодаря этому задача удержания будет легче в реализации, чем задача привлечения новых пользователей, о которых мы еще ничего не знаем.<br>\n",
    "\n",
    "&nbsp;&nbsp;&nbsp;&nbsp; Вам предоставлен набор данных от телекоммуникационной компании. В данных содержится информация о почти шести тысячах пользователей, их демографических характеристиках, услугах, которыми они пользуются, длительности пользования услугами оператора, методе оплаты, размере оплаты. \n",
    "<br>\n",
    "\n",
    "&nbsp;&nbsp;&nbsp;&nbsp; Cтоит задача проанализировать данные и спрогнозировать отток пользователей (выявить людей, которые продлят контракт и которые не продлят). Работа должна включать в себя следующие обязательные пункты: \n",
    "1. Описание данных *(с расчетом базовых статистик)*, \n",
    "2. Исследование зависимостей и формулирование гипотез, \n",
    "3. Построение моделей для прогнозирования оттока *(с обоснованием выбора той или иной модели)* на основе проверенных гипотез и выявленных взаимосвязей, \n",
    "4. Сравнение качества полученных моделей. \n",
    "\n",
    "Во втором разделе обязательно должно присутствовать обоснование гипотез, подробное описание выявленных взаимосвязей, а также их визуализация. \n",
    "<br>В четвертом дополнительно должны быть сформулированы общие выводы работы.\n",
    "\n",
    "<br><br>\n",
    "\n",
    "_________\n",
    "\n",
    "[Codebook](#Codebook) <br>\n",
    "[1. Описание данных](#1.-Описание-данных)<br>\n",
    "[2. Исследование зависимостей и формулирование гипотез](#2.-Исследование-зависимостей-и-формулирование-гипотез)<br>\n",
    "[3. Построение моделей для прогнозирования оттока](#3.-Построение-моделей-для-прогнозирования-оттока)<br>\n",
    "[4. Сравнение качества моделей](#4.-Сравнение-качества-моделей) <br>\n"
   ]
  },
  {
   "cell_type": "markdown",
   "metadata": {
    "id": "uZY64JwzVYR6"
   },
   "source": [
    "## Codebook\n",
    "<br>\n",
    "\n",
    "[Ссылка для скачивания данных](https://drive.google.com/open?id=1dPCG76ST6NohYKtVMGv6HpFL-jD5p1eJ) \n",
    "<br><br>\n",
    "\n",
    "`telecom_users.csv` содержит следующие значения:<br><br>\n",
    "\n",
    "&nbsp;&nbsp;&nbsp;&nbsp; `customerID` – id клиента<br>\n",
    "&nbsp;&nbsp;&nbsp;&nbsp; `gender` – пол клиента (male/female)<br>\n",
    "&nbsp;&nbsp;&nbsp;&nbsp; `SeniorCitizen` – яляется ли клиент пенсионером (1, 0)<br>\n",
    "&nbsp;&nbsp;&nbsp;&nbsp; `Partner` – состоит ли клиент в браке (Yes, No)<br>\n",
    "&nbsp;&nbsp;&nbsp;&nbsp; `Dependents` – есть ли у клиента иждивенцы (Yes, No)<br>\n",
    "&nbsp;&nbsp;&nbsp;&nbsp; `tenure` – сколько месяцев человек являлся клиентом компании<br>\n",
    "&nbsp;&nbsp;&nbsp;&nbsp; `PhoneService` – подключена ли услуга телефонной связи (Yes, No)<br>\n",
    "&nbsp;&nbsp;&nbsp;&nbsp; `MultipleLines` – подключены ли несколько телефонных линий (Yes, No, No phone service)<br>\n",
    "&nbsp;&nbsp;&nbsp;&nbsp; `InternetService` – интернет-провайдер клиента (DSL, Fiber optic, No)<br>\n",
    "&nbsp;&nbsp;&nbsp;&nbsp; `OnlineSecurity` – подключена ли услуга онлайн-безопасности (Yes, No, No internet service)<br>\n",
    "&nbsp;&nbsp;&nbsp;&nbsp; `OnlineBackup` – подключена ли услуга online backup (Yes, No, No internet service)<br>\n",
    "&nbsp;&nbsp;&nbsp;&nbsp; `DeviceProtection` – есть ли у клиента страховка оборудования (Yes, No, No internet service)<br>\n",
    "&nbsp;&nbsp;&nbsp;&nbsp; `TechSupport` – подключена ли услуга технической поддержки (Yes, No, No internet service)<br>\n",
    "&nbsp;&nbsp;&nbsp;&nbsp; `StreamingTV` – подключена ли услуга стримингового телевидения (Yes, No, No internet service)<br>\n",
    "&nbsp;&nbsp;&nbsp;&nbsp; `StreamingMovies` – подключена ли услуга стримингового кинотеатра (Yes, No, No internet service)<br>\n",
    "&nbsp;&nbsp;&nbsp;&nbsp; `Contract` – тип контракта клиента (Month-to-month, One year, Two year)<br>\n",
    "&nbsp;&nbsp;&nbsp;&nbsp; `PaperlessBilling` – пользуется ли клиент безбумажным биллингом (Yes, No)<br>\n",
    "&nbsp;&nbsp;&nbsp;&nbsp; `PaymentMethod` – метод оплаты (Electronic check, Mailed check, Bank transfer (automatic), Credit card (automatic))<br>\n",
    "&nbsp;&nbsp;&nbsp;&nbsp; `MonthlyCharges` – месячный размер оплаты на настоящий момент<br>\n",
    "&nbsp;&nbsp;&nbsp;&nbsp; `TotalCharges` – общая сумма, которую клиент заплатил за услуги за все время<br>\n",
    "&nbsp;&nbsp;&nbsp;&nbsp; `Churn` – произошел ли отток (Yes or No)<br>"
   ]
  },
  {
   "cell_type": "markdown",
   "metadata": {
    "id": "sIRCLuWGVYR9"
   },
   "source": [
    "# 1. Описание данных"
   ]
  },
  {
   "cell_type": "code",
   "execution_count": 1,
   "metadata": {
    "id": "s0fDRVkgVYSA",
    "scrolled": true
   },
   "outputs": [
    {
     "data": {
      "text/html": [
       "<div>\n",
       "<style scoped>\n",
       "    .dataframe tbody tr th:only-of-type {\n",
       "        vertical-align: middle;\n",
       "    }\n",
       "\n",
       "    .dataframe tbody tr th {\n",
       "        vertical-align: top;\n",
       "    }\n",
       "\n",
       "    .dataframe thead th {\n",
       "        text-align: right;\n",
       "    }\n",
       "</style>\n",
       "<table border=\"1\" class=\"dataframe\">\n",
       "  <thead>\n",
       "    <tr style=\"text-align: right;\">\n",
       "      <th></th>\n",
       "      <th>customerID</th>\n",
       "      <th>gender</th>\n",
       "      <th>SeniorCitizen</th>\n",
       "      <th>Partner</th>\n",
       "      <th>Dependents</th>\n",
       "      <th>tenure</th>\n",
       "      <th>PhoneService</th>\n",
       "      <th>MultipleLines</th>\n",
       "      <th>InternetService</th>\n",
       "      <th>OnlineSecurity</th>\n",
       "      <th>...</th>\n",
       "      <th>DeviceProtection</th>\n",
       "      <th>TechSupport</th>\n",
       "      <th>StreamingTV</th>\n",
       "      <th>StreamingMovies</th>\n",
       "      <th>Contract</th>\n",
       "      <th>PaperlessBilling</th>\n",
       "      <th>PaymentMethod</th>\n",
       "      <th>MonthlyCharges</th>\n",
       "      <th>TotalCharges</th>\n",
       "      <th>Churn</th>\n",
       "    </tr>\n",
       "  </thead>\n",
       "  <tbody>\n",
       "    <tr>\n",
       "      <th>1869</th>\n",
       "      <td>7010-BRBUU</td>\n",
       "      <td>Male</td>\n",
       "      <td>0</td>\n",
       "      <td>Yes</td>\n",
       "      <td>Yes</td>\n",
       "      <td>72</td>\n",
       "      <td>Yes</td>\n",
       "      <td>Yes</td>\n",
       "      <td>No</td>\n",
       "      <td>No internet service</td>\n",
       "      <td>...</td>\n",
       "      <td>No internet service</td>\n",
       "      <td>No internet service</td>\n",
       "      <td>No internet service</td>\n",
       "      <td>No internet service</td>\n",
       "      <td>Two year</td>\n",
       "      <td>No</td>\n",
       "      <td>Credit card (automatic)</td>\n",
       "      <td>24.10</td>\n",
       "      <td>1734.65</td>\n",
       "      <td>No</td>\n",
       "    </tr>\n",
       "    <tr>\n",
       "      <th>4528</th>\n",
       "      <td>9688-YGXVR</td>\n",
       "      <td>Female</td>\n",
       "      <td>0</td>\n",
       "      <td>No</td>\n",
       "      <td>No</td>\n",
       "      <td>44</td>\n",
       "      <td>Yes</td>\n",
       "      <td>No</td>\n",
       "      <td>Fiber optic</td>\n",
       "      <td>No</td>\n",
       "      <td>...</td>\n",
       "      <td>Yes</td>\n",
       "      <td>No</td>\n",
       "      <td>Yes</td>\n",
       "      <td>No</td>\n",
       "      <td>Month-to-month</td>\n",
       "      <td>Yes</td>\n",
       "      <td>Credit card (automatic)</td>\n",
       "      <td>88.15</td>\n",
       "      <td>3973.2</td>\n",
       "      <td>No</td>\n",
       "    </tr>\n",
       "    <tr>\n",
       "      <th>6344</th>\n",
       "      <td>9286-DOJGF</td>\n",
       "      <td>Female</td>\n",
       "      <td>1</td>\n",
       "      <td>Yes</td>\n",
       "      <td>No</td>\n",
       "      <td>38</td>\n",
       "      <td>Yes</td>\n",
       "      <td>Yes</td>\n",
       "      <td>Fiber optic</td>\n",
       "      <td>No</td>\n",
       "      <td>...</td>\n",
       "      <td>No</td>\n",
       "      <td>No</td>\n",
       "      <td>No</td>\n",
       "      <td>No</td>\n",
       "      <td>Month-to-month</td>\n",
       "      <td>Yes</td>\n",
       "      <td>Bank transfer (automatic)</td>\n",
       "      <td>74.95</td>\n",
       "      <td>2869.85</td>\n",
       "      <td>Yes</td>\n",
       "    </tr>\n",
       "    <tr>\n",
       "      <th>6739</th>\n",
       "      <td>6994-KERXL</td>\n",
       "      <td>Male</td>\n",
       "      <td>0</td>\n",
       "      <td>No</td>\n",
       "      <td>No</td>\n",
       "      <td>4</td>\n",
       "      <td>Yes</td>\n",
       "      <td>No</td>\n",
       "      <td>DSL</td>\n",
       "      <td>No</td>\n",
       "      <td>...</td>\n",
       "      <td>No</td>\n",
       "      <td>No</td>\n",
       "      <td>No</td>\n",
       "      <td>Yes</td>\n",
       "      <td>Month-to-month</td>\n",
       "      <td>Yes</td>\n",
       "      <td>Electronic check</td>\n",
       "      <td>55.90</td>\n",
       "      <td>238.5</td>\n",
       "      <td>No</td>\n",
       "    </tr>\n",
       "    <tr>\n",
       "      <th>432</th>\n",
       "      <td>2181-UAESM</td>\n",
       "      <td>Male</td>\n",
       "      <td>0</td>\n",
       "      <td>No</td>\n",
       "      <td>No</td>\n",
       "      <td>2</td>\n",
       "      <td>Yes</td>\n",
       "      <td>No</td>\n",
       "      <td>DSL</td>\n",
       "      <td>Yes</td>\n",
       "      <td>...</td>\n",
       "      <td>Yes</td>\n",
       "      <td>No</td>\n",
       "      <td>No</td>\n",
       "      <td>No</td>\n",
       "      <td>Month-to-month</td>\n",
       "      <td>No</td>\n",
       "      <td>Electronic check</td>\n",
       "      <td>53.45</td>\n",
       "      <td>119.5</td>\n",
       "      <td>No</td>\n",
       "    </tr>\n",
       "  </tbody>\n",
       "</table>\n",
       "<p>5 rows × 21 columns</p>\n",
       "</div>"
      ],
      "text/plain": [
       "      customerID  gender  SeniorCitizen Partner Dependents  tenure  \\\n",
       "1869  7010-BRBUU    Male              0     Yes        Yes      72   \n",
       "4528  9688-YGXVR  Female              0      No         No      44   \n",
       "6344  9286-DOJGF  Female              1     Yes         No      38   \n",
       "6739  6994-KERXL    Male              0      No         No       4   \n",
       "432   2181-UAESM    Male              0      No         No       2   \n",
       "\n",
       "     PhoneService MultipleLines InternetService       OnlineSecurity  ...  \\\n",
       "1869          Yes           Yes              No  No internet service  ...   \n",
       "4528          Yes            No     Fiber optic                   No  ...   \n",
       "6344          Yes           Yes     Fiber optic                   No  ...   \n",
       "6739          Yes            No             DSL                   No  ...   \n",
       "432           Yes            No             DSL                  Yes  ...   \n",
       "\n",
       "         DeviceProtection          TechSupport          StreamingTV  \\\n",
       "1869  No internet service  No internet service  No internet service   \n",
       "4528                  Yes                   No                  Yes   \n",
       "6344                   No                   No                   No   \n",
       "6739                   No                   No                   No   \n",
       "432                   Yes                   No                   No   \n",
       "\n",
       "          StreamingMovies        Contract PaperlessBilling  \\\n",
       "1869  No internet service        Two year               No   \n",
       "4528                   No  Month-to-month              Yes   \n",
       "6344                   No  Month-to-month              Yes   \n",
       "6739                  Yes  Month-to-month              Yes   \n",
       "432                    No  Month-to-month               No   \n",
       "\n",
       "                  PaymentMethod MonthlyCharges  TotalCharges Churn  \n",
       "1869    Credit card (automatic)          24.10       1734.65    No  \n",
       "4528    Credit card (automatic)          88.15        3973.2    No  \n",
       "6344  Bank transfer (automatic)          74.95       2869.85   Yes  \n",
       "6739           Electronic check          55.90         238.5    No  \n",
       "432            Electronic check          53.45         119.5    No  \n",
       "\n",
       "[5 rows x 21 columns]"
      ]
     },
     "execution_count": 1,
     "metadata": {},
     "output_type": "execute_result"
    }
   ],
   "source": [
    "# Стандартный импорт нужных библиотек\n",
    "import pandas as pd\n",
    "import numpy as np\n",
    "import missingno as msno\n",
    "from datetime import datetime, timedelta\n",
    "import matplotlib.pyplot as plt\n",
    "import seaborn as sns\n",
    "import warnings\n",
    "warnings.filterwarnings('ignore')\n",
    "\n",
    "# Загрузка данных\n",
    "df = pd.read_csv('telecom_users.csv', index_col=0)\n",
    "df.head()"
   ]
  },
  {
   "cell_type": "code",
   "execution_count": 2,
   "metadata": {},
   "outputs": [
    {
     "name": "stdout",
     "output_type": "stream",
     "text": [
      "<class 'pandas.core.frame.DataFrame'>\n",
      "Int64Index: 5986 entries, 1869 to 860\n",
      "Data columns (total 21 columns):\n",
      " #   Column            Non-Null Count  Dtype  \n",
      "---  ------            --------------  -----  \n",
      " 0   customerID        5986 non-null   object \n",
      " 1   gender            5986 non-null   object \n",
      " 2   SeniorCitizen     5986 non-null   int64  \n",
      " 3   Partner           5986 non-null   object \n",
      " 4   Dependents        5986 non-null   object \n",
      " 5   tenure            5986 non-null   int64  \n",
      " 6   PhoneService      5986 non-null   object \n",
      " 7   MultipleLines     5986 non-null   object \n",
      " 8   InternetService   5986 non-null   object \n",
      " 9   OnlineSecurity    5986 non-null   object \n",
      " 10  OnlineBackup      5986 non-null   object \n",
      " 11  DeviceProtection  5986 non-null   object \n",
      " 12  TechSupport       5986 non-null   object \n",
      " 13  StreamingTV       5986 non-null   object \n",
      " 14  StreamingMovies   5986 non-null   object \n",
      " 15  Contract          5986 non-null   object \n",
      " 16  PaperlessBilling  5986 non-null   object \n",
      " 17  PaymentMethod     5986 non-null   object \n",
      " 18  MonthlyCharges    5986 non-null   float64\n",
      " 19  TotalCharges      5986 non-null   object \n",
      " 20  Churn             5986 non-null   object \n",
      "dtypes: float64(1), int64(2), object(18)\n",
      "memory usage: 1.0+ MB\n"
     ]
    }
   ],
   "source": [
    "# 1. Посмотрю на общие хар-ки датасета\n",
    "df.info()"
   ]
  },
  {
   "cell_type": "code",
   "execution_count": 3,
   "metadata": {
    "scrolled": false
   },
   "outputs": [
    {
     "data": {
      "text/plain": [
       "<AxesSubplot:>"
      ]
     },
     "execution_count": 3,
     "metadata": {},
     "output_type": "execute_result"
    },
    {
     "data": {
      "image/png": "[encoded data removed]",
      "text/plain": [
       "<Figure size 1800x720 with 2 Axes>"
      ]
     },
     "metadata": {
      "needs_background": "light"
     },
     "output_type": "display_data"
    }
   ],
   "source": [
    "# 2. Визуальная оценка на пропуски\n",
    "msno.matrix(df)"
   ]
  },
  {
   "cell_type": "code",
   "execution_count": 4,
   "metadata": {
    "scrolled": true
   },
   "outputs": [
    {
     "data": {
      "text/html": [
       "<div>\n",
       "<style scoped>\n",
       "    .dataframe tbody tr th:only-of-type {\n",
       "        vertical-align: middle;\n",
       "    }\n",
       "\n",
       "    .dataframe tbody tr th {\n",
       "        vertical-align: top;\n",
       "    }\n",
       "\n",
       "    .dataframe thead th {\n",
       "        text-align: right;\n",
       "    }\n",
       "</style>\n",
       "<table border=\"1\" class=\"dataframe\">\n",
       "  <thead>\n",
       "    <tr style=\"text-align: right;\">\n",
       "      <th></th>\n",
       "      <th>customerID</th>\n",
       "      <th>gender</th>\n",
       "      <th>Partner</th>\n",
       "      <th>Dependents</th>\n",
       "      <th>PhoneService</th>\n",
       "      <th>MultipleLines</th>\n",
       "      <th>InternetService</th>\n",
       "      <th>OnlineSecurity</th>\n",
       "      <th>OnlineBackup</th>\n",
       "      <th>DeviceProtection</th>\n",
       "      <th>TechSupport</th>\n",
       "      <th>StreamingTV</th>\n",
       "      <th>StreamingMovies</th>\n",
       "      <th>Contract</th>\n",
       "      <th>PaperlessBilling</th>\n",
       "      <th>PaymentMethod</th>\n",
       "      <th>TotalCharges</th>\n",
       "      <th>Churn</th>\n",
       "    </tr>\n",
       "  </thead>\n",
       "  <tbody>\n",
       "    <tr>\n",
       "      <th>count</th>\n",
       "      <td>5986</td>\n",
       "      <td>5986</td>\n",
       "      <td>5986</td>\n",
       "      <td>5986</td>\n",
       "      <td>5986</td>\n",
       "      <td>5986</td>\n",
       "      <td>5986</td>\n",
       "      <td>5986</td>\n",
       "      <td>5986</td>\n",
       "      <td>5986</td>\n",
       "      <td>5986</td>\n",
       "      <td>5986</td>\n",
       "      <td>5986</td>\n",
       "      <td>5986</td>\n",
       "      <td>5986</td>\n",
       "      <td>5986</td>\n",
       "      <td>5986</td>\n",
       "      <td>5986</td>\n",
       "    </tr>\n",
       "    <tr>\n",
       "      <th>unique</th>\n",
       "      <td>5986</td>\n",
       "      <td>2</td>\n",
       "      <td>2</td>\n",
       "      <td>2</td>\n",
       "      <td>2</td>\n",
       "      <td>3</td>\n",
       "      <td>3</td>\n",
       "      <td>3</td>\n",
       "      <td>3</td>\n",
       "      <td>3</td>\n",
       "      <td>3</td>\n",
       "      <td>3</td>\n",
       "      <td>3</td>\n",
       "      <td>3</td>\n",
       "      <td>2</td>\n",
       "      <td>4</td>\n",
       "      <td>5611</td>\n",
       "      <td>2</td>\n",
       "    </tr>\n",
       "    <tr>\n",
       "      <th>top</th>\n",
       "      <td>7010-BRBUU</td>\n",
       "      <td>Male</td>\n",
       "      <td>No</td>\n",
       "      <td>No</td>\n",
       "      <td>Yes</td>\n",
       "      <td>No</td>\n",
       "      <td>Fiber optic</td>\n",
       "      <td>No</td>\n",
       "      <td>No</td>\n",
       "      <td>No</td>\n",
       "      <td>No</td>\n",
       "      <td>No</td>\n",
       "      <td>No</td>\n",
       "      <td>Month-to-month</td>\n",
       "      <td>Yes</td>\n",
       "      <td>Electronic check</td>\n",
       "      <td></td>\n",
       "      <td>No</td>\n",
       "    </tr>\n",
       "    <tr>\n",
       "      <th>freq</th>\n",
       "      <td>1</td>\n",
       "      <td>3050</td>\n",
       "      <td>3082</td>\n",
       "      <td>4195</td>\n",
       "      <td>5396</td>\n",
       "      <td>2848</td>\n",
       "      <td>2627</td>\n",
       "      <td>2982</td>\n",
       "      <td>2605</td>\n",
       "      <td>2640</td>\n",
       "      <td>2960</td>\n",
       "      <td>2389</td>\n",
       "      <td>2356</td>\n",
       "      <td>3269</td>\n",
       "      <td>3528</td>\n",
       "      <td>2006</td>\n",
       "      <td>10</td>\n",
       "      <td>4399</td>\n",
       "    </tr>\n",
       "  </tbody>\n",
       "</table>\n",
       "</div>"
      ],
      "text/plain": [
       "        customerID gender Partner Dependents PhoneService MultipleLines  \\\n",
       "count         5986   5986    5986       5986         5986          5986   \n",
       "unique        5986      2       2          2            2             3   \n",
       "top     7010-BRBUU   Male      No         No          Yes            No   \n",
       "freq             1   3050    3082       4195         5396          2848   \n",
       "\n",
       "       InternetService OnlineSecurity OnlineBackup DeviceProtection  \\\n",
       "count             5986           5986         5986             5986   \n",
       "unique               3              3            3                3   \n",
       "top        Fiber optic             No           No               No   \n",
       "freq              2627           2982         2605             2640   \n",
       "\n",
       "       TechSupport StreamingTV StreamingMovies        Contract  \\\n",
       "count         5986        5986            5986            5986   \n",
       "unique           3           3               3               3   \n",
       "top             No          No              No  Month-to-month   \n",
       "freq          2960        2389            2356            3269   \n",
       "\n",
       "       PaperlessBilling     PaymentMethod TotalCharges Churn  \n",
       "count              5986              5986         5986  5986  \n",
       "unique                2                 4         5611     2  \n",
       "top                 Yes  Electronic check                 No  \n",
       "freq               3528              2006           10  4399  "
      ]
     },
     "execution_count": 4,
     "metadata": {},
     "output_type": "execute_result"
    }
   ],
   "source": [
    "# 3.1 Выведу ряд статистик по атрибутам\n",
    "df.describe(include=[np.object_])"
   ]
  },
  {
   "cell_type": "code",
   "execution_count": 5,
   "metadata": {
    "scrolled": true
   },
   "outputs": [
    {
     "data": {
      "text/html": [
       "<div>\n",
       "<style scoped>\n",
       "    .dataframe tbody tr th:only-of-type {\n",
       "        vertical-align: middle;\n",
       "    }\n",
       "\n",
       "    .dataframe tbody tr th {\n",
       "        vertical-align: top;\n",
       "    }\n",
       "\n",
       "    .dataframe thead th {\n",
       "        text-align: right;\n",
       "    }\n",
       "</style>\n",
       "<table border=\"1\" class=\"dataframe\">\n",
       "  <thead>\n",
       "    <tr style=\"text-align: right;\">\n",
       "      <th></th>\n",
       "      <th>SeniorCitizen</th>\n",
       "      <th>tenure</th>\n",
       "      <th>MonthlyCharges</th>\n",
       "    </tr>\n",
       "  </thead>\n",
       "  <tbody>\n",
       "    <tr>\n",
       "      <th>count</th>\n",
       "      <td>5986.000000</td>\n",
       "      <td>5986.000000</td>\n",
       "      <td>5986.000000</td>\n",
       "    </tr>\n",
       "    <tr>\n",
       "      <th>mean</th>\n",
       "      <td>0.161377</td>\n",
       "      <td>32.468760</td>\n",
       "      <td>64.802213</td>\n",
       "    </tr>\n",
       "    <tr>\n",
       "      <th>std</th>\n",
       "      <td>0.367909</td>\n",
       "      <td>24.516391</td>\n",
       "      <td>30.114702</td>\n",
       "    </tr>\n",
       "    <tr>\n",
       "      <th>min</th>\n",
       "      <td>0.000000</td>\n",
       "      <td>0.000000</td>\n",
       "      <td>18.250000</td>\n",
       "    </tr>\n",
       "    <tr>\n",
       "      <th>25%</th>\n",
       "      <td>0.000000</td>\n",
       "      <td>9.000000</td>\n",
       "      <td>35.650000</td>\n",
       "    </tr>\n",
       "    <tr>\n",
       "      <th>50%</th>\n",
       "      <td>0.000000</td>\n",
       "      <td>29.000000</td>\n",
       "      <td>70.400000</td>\n",
       "    </tr>\n",
       "    <tr>\n",
       "      <th>75%</th>\n",
       "      <td>0.000000</td>\n",
       "      <td>56.000000</td>\n",
       "      <td>89.900000</td>\n",
       "    </tr>\n",
       "    <tr>\n",
       "      <th>max</th>\n",
       "      <td>1.000000</td>\n",
       "      <td>72.000000</td>\n",
       "      <td>118.750000</td>\n",
       "    </tr>\n",
       "  </tbody>\n",
       "</table>\n",
       "</div>"
      ],
      "text/plain": [
       "       SeniorCitizen       tenure  MonthlyCharges\n",
       "count    5986.000000  5986.000000     5986.000000\n",
       "mean        0.161377    32.468760       64.802213\n",
       "std         0.367909    24.516391       30.114702\n",
       "min         0.000000     0.000000       18.250000\n",
       "25%         0.000000     9.000000       35.650000\n",
       "50%         0.000000    29.000000       70.400000\n",
       "75%         0.000000    56.000000       89.900000\n",
       "max         1.000000    72.000000      118.750000"
      ]
     },
     "execution_count": 5,
     "metadata": {},
     "output_type": "execute_result"
    }
   ],
   "source": [
    "# 3.2 Выведу ряд статистик по атрибутам\n",
    "df.describe(include=[np.number])"
   ]
  },
  {
   "cell_type": "code",
   "execution_count": 6,
   "metadata": {
    "scrolled": false
   },
   "outputs": [
    {
     "name": "stdout",
     "output_type": "stream",
     "text": [
      "Обнаружено не число: \" \", в количестве 10\n"
     ]
    }
   ],
   "source": [
    "# 4. Столбец TotalCharges видимо содержит значения со строками\n",
    "# в № 3.1 в строке top пустая строка\n",
    "\n",
    "# весь массив типа object, поэтому я создам массив для проверки чисел,\n",
    "# где все числовые значения будут сравниваться в формате str\n",
    "numbers = ['0', '1', '2', '3', '4', '5', '6', '7', '8', '9', '.']\n",
    "# получаю серию с уникальными элементами и их кол-вом\n",
    "# и для удобства перевожу в словарь\n",
    "for i in df.TotalCharges.value_counts().to_dict():\n",
    "    # i - ключ, но изначально в серии это значение колонки TotalCharges\n",
    "    # итерация по отдельным состовляющим i, чтобы точно найти все строки, где возможно среди чисел есть буква\n",
    "    \n",
    "    # словарь для отлова точек, например если в значении две точки - что-то не так\n",
    "    points = []\n",
    "    for _ in i:\n",
    "        # отлов точек\n",
    "        if _ == '.':\n",
    "            points.append(_)\n",
    "        # отлов строковых значений\n",
    "        if _ not in numbers or len(points) > 1:\n",
    "            quan = df.TotalCharges.value_counts().to_dict()[i]\n",
    "            print(f'Обнаружено не число: \\\"{i}\", в количестве {quan}')\n"
   ]
  },
  {
   "cell_type": "markdown",
   "metadata": {},
   "source": [
    "Столбец TotalCharges содержит пустые строки, остальные значения типа object, изменю на float.\n",
    "\n",
    "Заменять пропуски не имеет смысла, тк не до конца ясно как складывается оплата: `кол-во месяцев сколько человек являлся клиентом компании` * `месячный размер оплаты на настоящий момент` ≠ `общая сумма, которую клиент заплатил за услуги за все время`\n",
    "\n",
    "Поэтому я просто не буду брать эти 10 строк там, где нужны числовые значения"
   ]
  },
  {
   "cell_type": "code",
   "execution_count": 7,
   "metadata": {
    "scrolled": false
   },
   "outputs": [
    {
     "data": {
      "image/png": "[encoded data removed]",
      "text/plain": [
       "<Figure size 720x1080 with 3 Axes>"
      ]
     },
     "metadata": {
      "needs_background": "light"
     },
     "output_type": "display_data"
    }
   ],
   "source": [
    "# 5. У меня есть 3 количественных признака, посмотрю на их распределение\n",
    "fig, axs = plt.subplots(nrows=3, ncols=1, figsize=(10, 15))\n",
    "data1 = [df.tenure, df.MonthlyCharges, pd.to_numeric(df.TotalCharges, errors='coerce')]\n",
    "for col in range(0, 3):\n",
    "    ax = axs[col]\n",
    "    ax.hist(data1[col], log=True, bins=20)\n",
    "    ax.set_title(data1[col].name)\n",
    "plt.show()"
   ]
  },
  {
   "cell_type": "code",
   "execution_count": 8,
   "metadata": {},
   "outputs": [],
   "source": [
    " def boxplot(series):\n",
    "    \"\"\"Строит ящик с усами\"\"\"\n",
    "    \n",
    "    plt.figure(figsize=(12, 6))\n",
    "    sns.boxplot(x=series)\n",
    "        \n",
    "    plt.title('Распределение \\\"' + series.name + '\\\"', fontsize=14)\n",
    "    # для себя чтобы точнее видеть соответствие со шкалами\n",
    "    plt.grid(axis='x')\n",
    "    \n",
    "    plt.show()"
   ]
  },
  {
   "cell_type": "code",
   "execution_count": 9,
   "metadata": {},
   "outputs": [
    {
     "data": {
      "image/png": "[encoded data removed]",
      "text/plain": [
       "<Figure size 864x432 with 1 Axes>"
      ]
     },
     "metadata": {
      "needs_background": "light"
     },
     "output_type": "display_data"
    }
   ],
   "source": [
    "boxplot(df.tenure)"
   ]
  },
  {
   "cell_type": "code",
   "execution_count": 10,
   "metadata": {},
   "outputs": [
    {
     "data": {
      "image/png": "[encoded data removed]",
      "text/plain": [
       "<Figure size 864x432 with 1 Axes>"
      ]
     },
     "metadata": {
      "needs_background": "light"
     },
     "output_type": "display_data"
    }
   ],
   "source": [
    "boxplot(df.MonthlyCharges)"
   ]
  },
  {
   "cell_type": "code",
   "execution_count": 11,
   "metadata": {
    "scrolled": false
   },
   "outputs": [
    {
     "data": {
      "image/png": "[encoded data removed]",
      "text/plain": [
       "<Figure size 864x432 with 1 Axes>"
      ]
     },
     "metadata": {
      "needs_background": "light"
     },
     "output_type": "display_data"
    }
   ],
   "source": [
    "boxplot(pd.to_numeric(df.TotalCharges, errors='coerce'))"
   ]
  },
  {
   "cell_type": "markdown",
   "metadata": {},
   "source": [
    "**Вывод:**\n",
    "1. Датасет содержит в себе 5986 строк и 21 столбец, значений NaN не обнаружено,<br>\n",
    "   но есть пустые строки `' '` в столбце TotalCharges.\n",
    "2. В датасете содержится информация о 5986 уникальных клиентах, больше всего мужского пола, также большинство клиентов не женаты, не имеют иждевенцев, имеют услугу подключенной телефонной связи, имеют одну телефонную линию, тип контракта Month-to-month, метод оплаты Electronic check, а самый популярный интернет-провайдер - Fiber optic.\n",
    "3. Самый большой срок пользования услугами - 72 месяца, медиана - 29, минимально - 0.\n",
    "4. Самая большая стоимость месячного платежа - 118.75, медиана - 70.4, минимально - 18.25."
   ]
  },
  {
   "cell_type": "markdown",
   "metadata": {
    "id": "TDUhZEKyVYSN"
   },
   "source": [
    "# 2. Исследование зависимостей и формулирование гипотез"
   ]
  },
  {
   "cell_type": "markdown",
   "metadata": {},
   "source": [
    "Хочу вывести как распределяются по категориям в процентах люди, переставшие пользоваться услугами. "
   ]
  },
  {
   "cell_type": "code",
   "execution_count": 12,
   "metadata": {},
   "outputs": [
    {
     "data": {
      "text/plain": [
       "26.511861009021047"
      ]
     },
     "execution_count": 12,
     "metadata": {},
     "output_type": "execute_result"
    }
   ],
   "source": [
    "# Сколько % пользователей из имеющихся данных ушли\n",
    "len(df[df.Churn=='Yes']) / len(df) * 100"
   ]
  },
  {
   "cell_type": "markdown",
   "metadata": {},
   "source": [
    "26.5% пользователей из имеющихся данных ушли\n",
    "\n",
    "Так как компании дешевле удержать клиента, чем найти нового, то я буду смотреть зависимости прежде всего у ушедших клиентов"
   ]
  },
  {
   "cell_type": "code",
   "execution_count": 13,
   "metadata": {},
   "outputs": [
    {
     "data": {
      "text/html": [
       "<div>\n",
       "<style scoped>\n",
       "    .dataframe tbody tr th:only-of-type {\n",
       "        vertical-align: middle;\n",
       "    }\n",
       "\n",
       "    .dataframe tbody tr th {\n",
       "        vertical-align: top;\n",
       "    }\n",
       "\n",
       "    .dataframe thead th {\n",
       "        text-align: right;\n",
       "    }\n",
       "</style>\n",
       "<table border=\"1\" class=\"dataframe\">\n",
       "  <thead>\n",
       "    <tr style=\"text-align: right;\">\n",
       "      <th></th>\n",
       "      <th></th>\n",
       "      <th>churn_percentage</th>\n",
       "    </tr>\n",
       "    <tr>\n",
       "      <th>col</th>\n",
       "      <th>attrbts</th>\n",
       "      <th></th>\n",
       "    </tr>\n",
       "  </thead>\n",
       "  <tbody>\n",
       "    <tr>\n",
       "      <th rowspan=\"2\" valign=\"top\">gender</th>\n",
       "      <th>Male</th>\n",
       "      <td>13.3</td>\n",
       "    </tr>\n",
       "    <tr>\n",
       "      <th>Female</th>\n",
       "      <td>13.21</td>\n",
       "    </tr>\n",
       "    <tr>\n",
       "      <th rowspan=\"2\" valign=\"top\">SeniorCitizen</th>\n",
       "      <th>0</th>\n",
       "      <td>19.8</td>\n",
       "    </tr>\n",
       "    <tr>\n",
       "      <th>1</th>\n",
       "      <td>6.72</td>\n",
       "    </tr>\n",
       "    <tr>\n",
       "      <th rowspan=\"2\" valign=\"top\">Partner</th>\n",
       "      <th>Yes</th>\n",
       "      <td>16.89</td>\n",
       "    </tr>\n",
       "    <tr>\n",
       "      <th>No</th>\n",
       "      <td>9.62</td>\n",
       "    </tr>\n",
       "    <tr>\n",
       "      <th rowspan=\"2\" valign=\"top\">Dependents</th>\n",
       "      <th>Yes</th>\n",
       "      <td>21.82</td>\n",
       "    </tr>\n",
       "    <tr>\n",
       "      <th>No</th>\n",
       "      <td>4.69</td>\n",
       "    </tr>\n",
       "    <tr>\n",
       "      <th rowspan=\"2\" valign=\"top\">PhoneService</th>\n",
       "      <th>Yes</th>\n",
       "      <td>24.02</td>\n",
       "    </tr>\n",
       "    <tr>\n",
       "      <th>No</th>\n",
       "      <td>2.49</td>\n",
       "    </tr>\n",
       "    <tr>\n",
       "      <th rowspan=\"2\" valign=\"top\">PaperlessBilling</th>\n",
       "      <th>No</th>\n",
       "      <td>19.73</td>\n",
       "    </tr>\n",
       "    <tr>\n",
       "      <th>Yes</th>\n",
       "      <td>6.78</td>\n",
       "    </tr>\n",
       "    <tr>\n",
       "      <th rowspan=\"3\" valign=\"top\">MultipleLines</th>\n",
       "      <th>Yes</th>\n",
       "      <td>12.08</td>\n",
       "    </tr>\n",
       "    <tr>\n",
       "      <th>No</th>\n",
       "      <td>11.94</td>\n",
       "    </tr>\n",
       "    <tr>\n",
       "      <th>No phone service</th>\n",
       "      <td>2.49</td>\n",
       "    </tr>\n",
       "    <tr>\n",
       "      <th rowspan=\"3\" valign=\"top\">InternetService</th>\n",
       "      <th>No</th>\n",
       "      <td>18.23</td>\n",
       "    </tr>\n",
       "    <tr>\n",
       "      <th>Fiber optic</th>\n",
       "      <td>6.63</td>\n",
       "    </tr>\n",
       "    <tr>\n",
       "      <th>DSL</th>\n",
       "      <td>1.65</td>\n",
       "    </tr>\n",
       "    <tr>\n",
       "      <th rowspan=\"3\" valign=\"top\">OnlineSecurity</th>\n",
       "      <th>No internet service</th>\n",
       "      <td>20.75</td>\n",
       "    </tr>\n",
       "    <tr>\n",
       "      <th>No</th>\n",
       "      <td>4.11</td>\n",
       "    </tr>\n",
       "    <tr>\n",
       "      <th>Yes</th>\n",
       "      <td>1.65</td>\n",
       "    </tr>\n",
       "    <tr>\n",
       "      <th rowspan=\"3\" valign=\"top\">OnlineBackup</th>\n",
       "      <th>No internet service</th>\n",
       "      <td>17.34</td>\n",
       "    </tr>\n",
       "    <tr>\n",
       "      <th>Yes</th>\n",
       "      <td>7.52</td>\n",
       "    </tr>\n",
       "    <tr>\n",
       "      <th>No</th>\n",
       "      <td>1.65</td>\n",
       "    </tr>\n",
       "    <tr>\n",
       "      <th rowspan=\"3\" valign=\"top\">DeviceProtection</th>\n",
       "      <th>No internet service</th>\n",
       "      <td>17.22</td>\n",
       "    </tr>\n",
       "    <tr>\n",
       "      <th>Yes</th>\n",
       "      <td>7.63</td>\n",
       "    </tr>\n",
       "    <tr>\n",
       "      <th>No</th>\n",
       "      <td>1.65</td>\n",
       "    </tr>\n",
       "    <tr>\n",
       "      <th rowspan=\"3\" valign=\"top\">TechSupport</th>\n",
       "      <th>No internet service</th>\n",
       "      <td>20.41</td>\n",
       "    </tr>\n",
       "    <tr>\n",
       "      <th>No</th>\n",
       "      <td>4.44</td>\n",
       "    </tr>\n",
       "    <tr>\n",
       "      <th>Yes</th>\n",
       "      <td>1.65</td>\n",
       "    </tr>\n",
       "    <tr>\n",
       "      <th rowspan=\"3\" valign=\"top\">StreamingTV</th>\n",
       "      <th>No internet service</th>\n",
       "      <td>13.35</td>\n",
       "    </tr>\n",
       "    <tr>\n",
       "      <th>Yes</th>\n",
       "      <td>11.51</td>\n",
       "    </tr>\n",
       "    <tr>\n",
       "      <th>No</th>\n",
       "      <td>1.65</td>\n",
       "    </tr>\n",
       "    <tr>\n",
       "      <th rowspan=\"3\" valign=\"top\">StreamingMovies</th>\n",
       "      <th>No internet service</th>\n",
       "      <td>13.23</td>\n",
       "    </tr>\n",
       "    <tr>\n",
       "      <th>No</th>\n",
       "      <td>11.63</td>\n",
       "    </tr>\n",
       "    <tr>\n",
       "      <th>Yes</th>\n",
       "      <td>1.65</td>\n",
       "    </tr>\n",
       "    <tr>\n",
       "      <th rowspan=\"3\" valign=\"top\">Contract</th>\n",
       "      <th>Two year</th>\n",
       "      <td>23.35</td>\n",
       "    </tr>\n",
       "    <tr>\n",
       "      <th>Month-to-month</th>\n",
       "      <td>2.47</td>\n",
       "    </tr>\n",
       "    <tr>\n",
       "      <th>One year</th>\n",
       "      <td>0.68</td>\n",
       "    </tr>\n",
       "    <tr>\n",
       "      <th rowspan=\"4\" valign=\"top\">PaymentMethod</th>\n",
       "      <th>Credit card (automatic)</th>\n",
       "      <td>15.07</td>\n",
       "    </tr>\n",
       "    <tr>\n",
       "      <th>Bank transfer (automatic)</th>\n",
       "      <td>4.39</td>\n",
       "    </tr>\n",
       "    <tr>\n",
       "      <th>Electronic check</th>\n",
       "      <td>3.74</td>\n",
       "    </tr>\n",
       "    <tr>\n",
       "      <th>Mailed check</th>\n",
       "      <td>3.31</td>\n",
       "    </tr>\n",
       "  </tbody>\n",
       "</table>\n",
       "</div>"
      ],
      "text/plain": [
       "                                           churn_percentage\n",
       "col              attrbts                                   \n",
       "gender           Male                                  13.3\n",
       "                 Female                               13.21\n",
       "SeniorCitizen    0                                     19.8\n",
       "                 1                                     6.72\n",
       "Partner          Yes                                  16.89\n",
       "                 No                                    9.62\n",
       "Dependents       Yes                                  21.82\n",
       "                 No                                    4.69\n",
       "PhoneService     Yes                                  24.02\n",
       "                 No                                    2.49\n",
       "PaperlessBilling No                                   19.73\n",
       "                 Yes                                   6.78\n",
       "MultipleLines    Yes                                  12.08\n",
       "                 No                                   11.94\n",
       "                 No phone service                      2.49\n",
       "InternetService  No                                   18.23\n",
       "                 Fiber optic                           6.63\n",
       "                 DSL                                   1.65\n",
       "OnlineSecurity   No internet service                  20.75\n",
       "                 No                                    4.11\n",
       "                 Yes                                   1.65\n",
       "OnlineBackup     No internet service                  17.34\n",
       "                 Yes                                   7.52\n",
       "                 No                                    1.65\n",
       "DeviceProtection No internet service                  17.22\n",
       "                 Yes                                   7.63\n",
       "                 No                                    1.65\n",
       "TechSupport      No internet service                  20.41\n",
       "                 No                                    4.44\n",
       "                 Yes                                   1.65\n",
       "StreamingTV      No internet service                  13.35\n",
       "                 Yes                                  11.51\n",
       "                 No                                    1.65\n",
       "StreamingMovies  No internet service                  13.23\n",
       "                 No                                   11.63\n",
       "                 Yes                                   1.65\n",
       "Contract         Two year                             23.35\n",
       "                 Month-to-month                        2.47\n",
       "                 One year                              0.68\n",
       "PaymentMethod    Credit card (automatic)              15.07\n",
       "                 Bank transfer (automatic)             4.39\n",
       "                 Electronic check                      3.74\n",
       "                 Mailed check                          3.31"
      ]
     },
     "execution_count": 13,
     "metadata": {},
     "output_type": "execute_result"
    }
   ],
   "source": [
    "# сформирую датасет для наглядности\n",
    "\n",
    "# список нужных мне ячеек\n",
    "all_columns = ['gender', 'SeniorCitizen', 'Partner', 'Dependents',\n",
    "               'PhoneService','PaperlessBilling', 'MultipleLines',\n",
    "               'InternetService','OnlineSecurity', 'OnlineBackup',\n",
    "               'DeviceProtection', 'TechSupport', 'StreamingTV', \n",
    "               'StreamingMovies', 'Contract', 'PaymentMethod']\n",
    "# мне надо получить список,\n",
    "# в котором названия столбцов потвояются в том же кол-ве раз,\n",
    "# сколько имеют атрибутов\n",
    "auxiliary_list = []\n",
    "for attr in all_columns:\n",
    "    data = df[[attr]]\n",
    "    for _ in np.unique(data):\n",
    "        auxiliary_list.append(attr)\n",
    "        \n",
    "# для последующего сшивания в мульти-индекс\n",
    "attributs = []\n",
    "values_list = []\n",
    "for attr in all_columns:\n",
    "    data = df[[attr]]\n",
    "    for position in df[attr].unique():\n",
    "            attributs.append(str(position))\n",
    "for attr in all_columns:    \n",
    "    data2 = df[df['Churn']=='Yes'][attr]    \n",
    "    for n, position in enumerate(data2.value_counts().index):\n",
    "        val = data2.value_counts()[n]\n",
    "        val = round((val / len(df) * 100), 2)\n",
    "        values_list.append(val)\n",
    "        \n",
    "df_interest = pd.DataFrame([attributs, auxiliary_list, values_list]).T\n",
    "df_interest.columns=['attrbts', 'col', 'churn_percentage']\n",
    "df_interest.set_index(['col', 'attrbts'], inplace=True)\n",
    "df_interest"
   ]
  },
  {
   "cell_type": "markdown",
   "metadata": {},
   "source": [
    "**Зависимость оттока от значений отдельных колонок:**<br>\n",
    "\n",
    "По имеющимся данным, клиенты, переставшие пользоваться услугами, разделились практически поровну на мужчин и женщин, большая часть из которых люди, не достигшие пенсионного возраста, но находящиеся в браке и имеющие иждивенцев. Также ими были подключены услуги телефонной связи и несколько телефонных линий. Больше всего из них имели в качестве метода оплаты - автоплатеж по кредитной карте, тип контракта - \"Два-года\", не пользовались безбумажным биллингом и не имели интернет провайдера. А те, кто имел провайдера, выбирали \"Fiber optic\" и в основном не подключали услуги онлайн-безопасности, тех. поддержки, стримингового кинотеатра, но пользовались услугами \"online backup\", стриминговым ТВ и страховкой оборудования.\n",
    "___\n"
   ]
  },
  {
   "cell_type": "markdown",
   "metadata": {},
   "source": [
    "### Гипотеза 1. \n",
    "Клиенты, находящиеся в браке имеют месячный платеж больше, нежели холостые"
   ]
  },
  {
   "cell_type": "code",
   "execution_count": 14,
   "metadata": {
    "scrolled": false
   },
   "outputs": [
    {
     "name": "stdout",
     "output_type": "stream",
     "text": [
      "Клиенты, находящиеся в браке платят 75.15\n",
      "Клиенты, находящиеся в браке платят 67.55\n"
     ]
    }
   ],
   "source": [
    "# Делаю выборки по условиям\n",
    "partner_y = df[df.Partner=='Yes'].MonthlyCharges.median()\n",
    "partner_n = df[df.Partner=='No'].MonthlyCharges.median()\n",
    "print(f'Клиенты, находящиеся в браке платят {partner_y}')\n",
    "print(f'Клиенты, находящиеся в браке платят {round(partner_n, 2)}')"
   ]
  },
  {
   "cell_type": "code",
   "execution_count": 15,
   "metadata": {},
   "outputs": [],
   "source": [
    "# Добавлю разбиение с иждевенцами и пенсионерами\n",
    "# чтобы посмотреть различные комбинации социального статуса"
   ]
  },
  {
   "cell_type": "code",
   "execution_count": 16,
   "metadata": {},
   "outputs": [
    {
     "data": {
      "image/png": "[encoded data removed]",
      "text/plain": [
       "<Figure size 864x432 with 2 Axes>"
      ]
     },
     "metadata": {
      "needs_background": "light"
     },
     "output_type": "display_data"
    }
   ],
   "source": [
    "fig, axs = plt.subplots(nrows=1,\n",
    "                        ncols=2,\n",
    "                        figsize=(12, 6))\n",
    "sns.barplot(data=df,\n",
    "            x='SeniorCitizen',\n",
    "            y='MonthlyCharges',\n",
    "            hue='Partner', palette='husl', ax=axs[0], ci=False)\n",
    "\n",
    "sns.barplot(data=df,\n",
    "            x='SeniorCitizen',\n",
    "            y='MonthlyCharges',\n",
    "            hue='Dependents', palette='pastel', ax=axs[1], ci=False)\n",
    "# настройки визуализации\n",
    "axs[0].set_yticks(list(range(0, 95, 5)))\n",
    "axs[0].grid(axis='y', linestyle='--', color='black', alpha=0.2)\n",
    "axs[0].set_xticklabels(['Молодые', 'Пенсионеры'])\n",
    "axs[1].set_yticks(list(range(0, 95, 5)))\n",
    "axs[1].set_ylabel(None)\n",
    "axs[1].grid(axis='y', linestyle='--', color='black', alpha=0.2)\n",
    "axs[1].set_xticklabels(['Молодые', 'Пенсионеры'])\n",
    "plt.title('Распределение месячной платы по комбинациям соц статуса',\n",
    "                 fontsize=14, pad=20, loc='right')\n",
    "\n",
    "plt.show()"
   ]
  },
  {
   "cell_type": "markdown",
   "metadata": {},
   "source": [
    "**Вывод:** Клиенты пенсионеры, состоящие в браке и имеющие иждивенцев имеют наибольшую месячную стоимость оплаты\n",
    "\n",
    "___"
   ]
  },
  {
   "cell_type": "markdown",
   "metadata": {},
   "source": [
    "### Гипотеза 2. \n",
    "Клиенты не пенсионеры имеют больше подключенных услуг чем пенсионеры\n",
    "\n"
   ]
  },
  {
   "cell_type": "code",
   "execution_count": 17,
   "metadata": {
    "scrolled": true
   },
   "outputs": [
    {
     "data": {
      "text/html": [
       "<div>\n",
       "<style scoped>\n",
       "    .dataframe tbody tr th:only-of-type {\n",
       "        vertical-align: middle;\n",
       "    }\n",
       "\n",
       "    .dataframe tbody tr th {\n",
       "        vertical-align: top;\n",
       "    }\n",
       "\n",
       "    .dataframe thead th {\n",
       "        text-align: right;\n",
       "    }\n",
       "</style>\n",
       "<table border=\"1\" class=\"dataframe\">\n",
       "  <thead>\n",
       "    <tr style=\"text-align: right;\">\n",
       "      <th></th>\n",
       "      <th>SeniorCitizen</th>\n",
       "      <th>PhoneService</th>\n",
       "      <th>PaperlessBilling</th>\n",
       "      <th>MultipleLines</th>\n",
       "      <th>InternetService</th>\n",
       "      <th>OnlineSecurity</th>\n",
       "      <th>OnlineBackup</th>\n",
       "      <th>DeviceProtection</th>\n",
       "      <th>TechSupport</th>\n",
       "      <th>StreamingTV</th>\n",
       "      <th>StreamingMovies</th>\n",
       "      <th>SeniorCitizenStr</th>\n",
       "    </tr>\n",
       "  </thead>\n",
       "  <tbody>\n",
       "    <tr>\n",
       "      <th>1869</th>\n",
       "      <td>0</td>\n",
       "      <td>1.0</td>\n",
       "      <td>0.0</td>\n",
       "      <td>2.0</td>\n",
       "      <td>2.0</td>\n",
       "      <td>1.0</td>\n",
       "      <td>1.0</td>\n",
       "      <td>1.0</td>\n",
       "      <td>1.0</td>\n",
       "      <td>1.0</td>\n",
       "      <td>1.0</td>\n",
       "      <td>no retiree</td>\n",
       "    </tr>\n",
       "    <tr>\n",
       "      <th>4528</th>\n",
       "      <td>0</td>\n",
       "      <td>1.0</td>\n",
       "      <td>1.0</td>\n",
       "      <td>0.0</td>\n",
       "      <td>1.0</td>\n",
       "      <td>0.0</td>\n",
       "      <td>2.0</td>\n",
       "      <td>2.0</td>\n",
       "      <td>0.0</td>\n",
       "      <td>2.0</td>\n",
       "      <td>0.0</td>\n",
       "      <td>no retiree</td>\n",
       "    </tr>\n",
       "    <tr>\n",
       "      <th>6344</th>\n",
       "      <td>1</td>\n",
       "      <td>1.0</td>\n",
       "      <td>1.0</td>\n",
       "      <td>2.0</td>\n",
       "      <td>1.0</td>\n",
       "      <td>0.0</td>\n",
       "      <td>0.0</td>\n",
       "      <td>0.0</td>\n",
       "      <td>0.0</td>\n",
       "      <td>0.0</td>\n",
       "      <td>0.0</td>\n",
       "      <td>retiree</td>\n",
       "    </tr>\n",
       "    <tr>\n",
       "      <th>6739</th>\n",
       "      <td>0</td>\n",
       "      <td>1.0</td>\n",
       "      <td>1.0</td>\n",
       "      <td>0.0</td>\n",
       "      <td>0.0</td>\n",
       "      <td>0.0</td>\n",
       "      <td>0.0</td>\n",
       "      <td>0.0</td>\n",
       "      <td>0.0</td>\n",
       "      <td>0.0</td>\n",
       "      <td>2.0</td>\n",
       "      <td>no retiree</td>\n",
       "    </tr>\n",
       "    <tr>\n",
       "      <th>432</th>\n",
       "      <td>0</td>\n",
       "      <td>1.0</td>\n",
       "      <td>0.0</td>\n",
       "      <td>0.0</td>\n",
       "      <td>0.0</td>\n",
       "      <td>2.0</td>\n",
       "      <td>0.0</td>\n",
       "      <td>2.0</td>\n",
       "      <td>0.0</td>\n",
       "      <td>0.0</td>\n",
       "      <td>0.0</td>\n",
       "      <td>no retiree</td>\n",
       "    </tr>\n",
       "  </tbody>\n",
       "</table>\n",
       "</div>"
      ],
      "text/plain": [
       "      SeniorCitizen  PhoneService  PaperlessBilling  MultipleLines  \\\n",
       "1869              0           1.0               0.0            2.0   \n",
       "4528              0           1.0               1.0            0.0   \n",
       "6344              1           1.0               1.0            2.0   \n",
       "6739              0           1.0               1.0            0.0   \n",
       "432               0           1.0               0.0            0.0   \n",
       "\n",
       "      InternetService  OnlineSecurity  OnlineBackup  DeviceProtection  \\\n",
       "1869              2.0             1.0           1.0               1.0   \n",
       "4528              1.0             0.0           2.0               2.0   \n",
       "6344              1.0             0.0           0.0               0.0   \n",
       "6739              0.0             0.0           0.0               0.0   \n",
       "432               0.0             2.0           0.0               2.0   \n",
       "\n",
       "      TechSupport  StreamingTV  StreamingMovies SeniorCitizenStr  \n",
       "1869          1.0          1.0              1.0       no retiree  \n",
       "4528          0.0          2.0              0.0       no retiree  \n",
       "6344          0.0          0.0              0.0          retiree  \n",
       "6739          0.0          0.0              2.0       no retiree  \n",
       "432           0.0          0.0              0.0       no retiree  "
      ]
     },
     "execution_count": 17,
     "metadata": {},
     "output_type": "execute_result"
    }
   ],
   "source": [
    "# Создам новый дф для подсчета услуг и заменю значения object на int\n",
    "# Копирую дф чтобы не вносить изменений в оригинальный\n",
    "df_2 = df[['SeniorCitizen'] + all_columns[4:14]].copy()\n",
    "# Получаю список столбцов, к которым нужно применить .cat.codes\n",
    "category_type = df_2.columns[~df_2.columns.isin(['customerID', 'SeniorCitizen', 'tenure', 'MonthlyCharges', 'TotalCharges'])]\n",
    "# Изменяю тип этих столбцов к 'category' и применяю .cat.codes\n",
    "df_2.loc[:, category_type] = df_2.loc[:, category_type].apply(lambda x: x.astype('category').cat.codes)\n",
    "# Изменю тип обратно для подсчета\n",
    "df_2.loc[:, category_type] = df_2.loc[:, category_type].astype('float64')\n",
    "# Поскольку я заменил все значения на 0 и 1,\n",
    "# а столбец SeniorCitizen содержит тоже 0 и 1 но для другого смысла - \n",
    "# заменю в нем 0, 1 на строковые значения чтобы не было путаницы\n",
    "df_2['SeniorCitizenStr'] = df_2['SeniorCitizen'].replace([1, 0], ['retiree', 'no retiree'])\n",
    "df_2.head()"
   ]
  },
  {
   "cell_type": "code",
   "execution_count": 18,
   "metadata": {},
   "outputs": [
    {
     "data": {
      "text/html": [
       "<div>\n",
       "<style scoped>\n",
       "    .dataframe tbody tr th:only-of-type {\n",
       "        vertical-align: middle;\n",
       "    }\n",
       "\n",
       "    .dataframe tbody tr th {\n",
       "        vertical-align: top;\n",
       "    }\n",
       "\n",
       "    .dataframe thead th {\n",
       "        text-align: right;\n",
       "    }\n",
       "</style>\n",
       "<table border=\"1\" class=\"dataframe\">\n",
       "  <thead>\n",
       "    <tr style=\"text-align: right;\">\n",
       "      <th></th>\n",
       "      <th>PhoneService</th>\n",
       "      <th>PaperlessBilling</th>\n",
       "      <th>MultipleLines</th>\n",
       "      <th>InternetService</th>\n",
       "      <th>OnlineSecurity</th>\n",
       "      <th>OnlineBackup</th>\n",
       "      <th>DeviceProtection</th>\n",
       "      <th>TechSupport</th>\n",
       "      <th>StreamingTV</th>\n",
       "      <th>StreamingMovies</th>\n",
       "    </tr>\n",
       "    <tr>\n",
       "      <th>SeniorCitizenStr</th>\n",
       "      <th></th>\n",
       "      <th></th>\n",
       "      <th></th>\n",
       "      <th></th>\n",
       "      <th></th>\n",
       "      <th></th>\n",
       "      <th></th>\n",
       "      <th></th>\n",
       "      <th></th>\n",
       "      <th></th>\n",
       "    </tr>\n",
       "  </thead>\n",
       "  <tbody>\n",
       "    <tr>\n",
       "      <th>no retiree</th>\n",
       "      <td>4519.0</td>\n",
       "      <td>2790.0</td>\n",
       "      <td>4485.0</td>\n",
       "      <td>4423.0</td>\n",
       "      <td>4198.0</td>\n",
       "      <td>4622.0</td>\n",
       "      <td>4568.0</td>\n",
       "      <td>4282.0</td>\n",
       "      <td>4898.0</td>\n",
       "      <td>4922.0</td>\n",
       "    </tr>\n",
       "    <tr>\n",
       "      <th>retiree</th>\n",
       "      <td>877.0</td>\n",
       "      <td>738.0</td>\n",
       "      <td>1201.0</td>\n",
       "      <td>786.0</td>\n",
       "      <td>519.0</td>\n",
       "      <td>849.0</td>\n",
       "      <td>833.0</td>\n",
       "      <td>479.0</td>\n",
       "      <td>1005.0</td>\n",
       "      <td>1047.0</td>\n",
       "    </tr>\n",
       "  </tbody>\n",
       "</table>\n",
       "</div>"
      ],
      "text/plain": [
       "                  PhoneService  PaperlessBilling  MultipleLines  \\\n",
       "SeniorCitizenStr                                                  \n",
       "no retiree              4519.0            2790.0         4485.0   \n",
       "retiree                  877.0             738.0         1201.0   \n",
       "\n",
       "                  InternetService  OnlineSecurity  OnlineBackup  \\\n",
       "SeniorCitizenStr                                                  \n",
       "no retiree                 4423.0          4198.0        4622.0   \n",
       "retiree                     786.0           519.0         849.0   \n",
       "\n",
       "                  DeviceProtection  TechSupport  StreamingTV  StreamingMovies  \n",
       "SeniorCitizenStr                                                               \n",
       "no retiree                  4568.0       4282.0       4898.0           4922.0  \n",
       "retiree                      833.0        479.0       1005.0           1047.0  "
      ]
     },
     "execution_count": 18,
     "metadata": {},
     "output_type": "execute_result"
    }
   ],
   "source": [
    "df_2_group = df_2.iloc[:, 1:].groupby('SeniorCitizenStr').agg('sum')\n",
    "df_2_group"
   ]
  },
  {
   "cell_type": "code",
   "execution_count": 19,
   "metadata": {},
   "outputs": [
    {
     "data": {
      "image/png": "[encoded data removed]",
      "text/plain": [
       "<Figure size 1440x720 with 1 Axes>"
      ]
     },
     "metadata": {
      "needs_background": "light"
     },
     "output_type": "display_data"
    }
   ],
   "source": [
    "# Визуализация\n",
    "fig, ax = plt.subplots(figsize=(20, 10))\n",
    "ax.bar(df_2_group.loc['no retiree'][:-1].index,\n",
    "       df_2_group.loc['no retiree'][:-1].values,\n",
    "       label='Не пенсионеры', color='orange')\n",
    "\n",
    "ax.bar(df_2_group.loc['retiree'][:-1].index,\n",
    "       df_2_group.loc['retiree'][:-1].values,\n",
    "       label='Пенсионеры', color='green')\n",
    "\n",
    "ax.legend(loc='best', fontsize='large')\n",
    "ax.set_title('Количество подключенных услуг за все время', fontsize=14)\n",
    "ax.set_xlabel('Услуги', fontsize=13)\n",
    "ax.set_ylabel('Кол-во', fontsize=13)\n",
    "ax.set_yticks(list(range(0, int(df_2_group.values.max()), 150)))\n",
    "\n",
    "plt.show()"
   ]
  },
  {
   "cell_type": "code",
   "execution_count": 20,
   "metadata": {},
   "outputs": [
    {
     "data": {
      "text/plain": [
       "4519"
      ]
     },
     "execution_count": 20,
     "metadata": {},
     "output_type": "execute_result"
    }
   ],
   "source": [
    "# проверка для себя что все посчитал правильно\n",
    "df[(df.SeniorCitizen==0) & (df.PhoneService=='Yes')].shape[0]"
   ]
  },
  {
   "cell_type": "code",
   "execution_count": 21,
   "metadata": {},
   "outputs": [
    {
     "data": {
      "text/html": [
       "<div>\n",
       "<style scoped>\n",
       "    .dataframe tbody tr th:only-of-type {\n",
       "        vertical-align: middle;\n",
       "    }\n",
       "\n",
       "    .dataframe tbody tr th {\n",
       "        vertical-align: top;\n",
       "    }\n",
       "\n",
       "    .dataframe thead tr th {\n",
       "        text-align: left;\n",
       "    }\n",
       "\n",
       "    .dataframe thead tr:last-of-type th {\n",
       "        text-align: right;\n",
       "    }\n",
       "</style>\n",
       "<table border=\"1\" class=\"dataframe\">\n",
       "  <thead>\n",
       "    <tr>\n",
       "      <th></th>\n",
       "      <th colspan=\"2\" halign=\"left\">Num_connected_service</th>\n",
       "    </tr>\n",
       "    <tr>\n",
       "      <th></th>\n",
       "      <th>median</th>\n",
       "      <th>mean</th>\n",
       "    </tr>\n",
       "    <tr>\n",
       "      <th>SeniorCitizenStr</th>\n",
       "      <th></th>\n",
       "      <th></th>\n",
       "    </tr>\n",
       "  </thead>\n",
       "  <tbody>\n",
       "    <tr>\n",
       "      <th>no retiree</th>\n",
       "      <td>9.0</td>\n",
       "      <td>8.706574</td>\n",
       "    </tr>\n",
       "    <tr>\n",
       "      <th>retiree</th>\n",
       "      <td>9.0</td>\n",
       "      <td>8.627329</td>\n",
       "    </tr>\n",
       "  </tbody>\n",
       "</table>\n",
       "</div>"
      ],
      "text/plain": [
       "                 Num_connected_service          \n",
       "                                median      mean\n",
       "SeniorCitizenStr                                \n",
       "no retiree                         9.0  8.706574\n",
       "retiree                            9.0  8.627329"
      ]
     },
     "execution_count": 21,
     "metadata": {},
     "output_type": "execute_result"
    }
   ],
   "source": [
    "# Посмотрю сколько \"в среднем\" подключенных услуг у молодого и старшего поколнений\n",
    "df_2['Num_connected_service'] = df_2.loc[:, 'PhoneService':'StreamingMovies'].sum(axis=1)\n",
    "df_2.groupby('SeniorCitizenStr').agg({'Num_connected_service':['median', 'mean']})"
   ]
  },
  {
   "cell_type": "code",
   "execution_count": 22,
   "metadata": {},
   "outputs": [
    {
     "data": {
      "text/plain": [
       "5"
      ]
     },
     "execution_count": 22,
     "metadata": {},
     "output_type": "execute_result"
    }
   ],
   "source": [
    "# Во сколько раз молодых людей больше чем пенсионеров\n",
    "round(df.SeniorCitizen.value_counts()[0] / df.SeniorCitizen.value_counts()[1])"
   ]
  },
  {
   "cell_type": "markdown",
   "metadata": {},
   "source": [
    "**Вывод:** Клиенты не пенсионеры \"в среднем\" имеют такое же количество подключенных услуг как и у старшего поколения, однако кол-во молодых клиентов в пять раз больше чем кол-во пенсионеров.\n",
    "___"
   ]
  },
  {
   "cell_type": "markdown",
   "metadata": {},
   "source": [
    "### Гипотеза 3. \n",
    "Люди, которые ушли пользовались меньшим кол-вом услуг, чем те, кто остался"
   ]
  },
  {
   "cell_type": "code",
   "execution_count": 23,
   "metadata": {},
   "outputs": [
    {
     "data": {
      "text/html": [
       "<div>\n",
       "<style scoped>\n",
       "    .dataframe tbody tr th:only-of-type {\n",
       "        vertical-align: middle;\n",
       "    }\n",
       "\n",
       "    .dataframe tbody tr th {\n",
       "        vertical-align: top;\n",
       "    }\n",
       "\n",
       "    .dataframe thead th {\n",
       "        text-align: right;\n",
       "    }\n",
       "</style>\n",
       "<table border=\"1\" class=\"dataframe\">\n",
       "  <thead>\n",
       "    <tr style=\"text-align: right;\">\n",
       "      <th></th>\n",
       "      <th>SeniorCitizen</th>\n",
       "      <th>PhoneService</th>\n",
       "      <th>PaperlessBilling</th>\n",
       "      <th>MultipleLines</th>\n",
       "      <th>InternetService</th>\n",
       "      <th>OnlineSecurity</th>\n",
       "      <th>OnlineBackup</th>\n",
       "      <th>DeviceProtection</th>\n",
       "      <th>TechSupport</th>\n",
       "      <th>StreamingTV</th>\n",
       "      <th>StreamingMovies</th>\n",
       "      <th>SeniorCitizenStr</th>\n",
       "      <th>Num_connected_service</th>\n",
       "      <th>Churn</th>\n",
       "    </tr>\n",
       "    <tr>\n",
       "      <th>index</th>\n",
       "      <th></th>\n",
       "      <th></th>\n",
       "      <th></th>\n",
       "      <th></th>\n",
       "      <th></th>\n",
       "      <th></th>\n",
       "      <th></th>\n",
       "      <th></th>\n",
       "      <th></th>\n",
       "      <th></th>\n",
       "      <th></th>\n",
       "      <th></th>\n",
       "      <th></th>\n",
       "      <th></th>\n",
       "    </tr>\n",
       "  </thead>\n",
       "  <tbody>\n",
       "    <tr>\n",
       "      <th>1869</th>\n",
       "      <td>0</td>\n",
       "      <td>1.0</td>\n",
       "      <td>0.0</td>\n",
       "      <td>2.0</td>\n",
       "      <td>2.0</td>\n",
       "      <td>1.0</td>\n",
       "      <td>1.0</td>\n",
       "      <td>1.0</td>\n",
       "      <td>1.0</td>\n",
       "      <td>1.0</td>\n",
       "      <td>1.0</td>\n",
       "      <td>no retiree</td>\n",
       "      <td>11.0</td>\n",
       "      <td>No</td>\n",
       "    </tr>\n",
       "    <tr>\n",
       "      <th>4528</th>\n",
       "      <td>0</td>\n",
       "      <td>1.0</td>\n",
       "      <td>1.0</td>\n",
       "      <td>0.0</td>\n",
       "      <td>1.0</td>\n",
       "      <td>0.0</td>\n",
       "      <td>2.0</td>\n",
       "      <td>2.0</td>\n",
       "      <td>0.0</td>\n",
       "      <td>2.0</td>\n",
       "      <td>0.0</td>\n",
       "      <td>no retiree</td>\n",
       "      <td>9.0</td>\n",
       "      <td>No</td>\n",
       "    </tr>\n",
       "    <tr>\n",
       "      <th>6344</th>\n",
       "      <td>1</td>\n",
       "      <td>1.0</td>\n",
       "      <td>1.0</td>\n",
       "      <td>2.0</td>\n",
       "      <td>1.0</td>\n",
       "      <td>0.0</td>\n",
       "      <td>0.0</td>\n",
       "      <td>0.0</td>\n",
       "      <td>0.0</td>\n",
       "      <td>0.0</td>\n",
       "      <td>0.0</td>\n",
       "      <td>retiree</td>\n",
       "      <td>5.0</td>\n",
       "      <td>Yes</td>\n",
       "    </tr>\n",
       "    <tr>\n",
       "      <th>6739</th>\n",
       "      <td>0</td>\n",
       "      <td>1.0</td>\n",
       "      <td>1.0</td>\n",
       "      <td>0.0</td>\n",
       "      <td>0.0</td>\n",
       "      <td>0.0</td>\n",
       "      <td>0.0</td>\n",
       "      <td>0.0</td>\n",
       "      <td>0.0</td>\n",
       "      <td>0.0</td>\n",
       "      <td>2.0</td>\n",
       "      <td>no retiree</td>\n",
       "      <td>4.0</td>\n",
       "      <td>No</td>\n",
       "    </tr>\n",
       "    <tr>\n",
       "      <th>432</th>\n",
       "      <td>0</td>\n",
       "      <td>1.0</td>\n",
       "      <td>0.0</td>\n",
       "      <td>0.0</td>\n",
       "      <td>0.0</td>\n",
       "      <td>2.0</td>\n",
       "      <td>0.0</td>\n",
       "      <td>2.0</td>\n",
       "      <td>0.0</td>\n",
       "      <td>0.0</td>\n",
       "      <td>0.0</td>\n",
       "      <td>no retiree</td>\n",
       "      <td>5.0</td>\n",
       "      <td>No</td>\n",
       "    </tr>\n",
       "  </tbody>\n",
       "</table>\n",
       "</div>"
      ],
      "text/plain": [
       "       SeniorCitizen  PhoneService  PaperlessBilling  MultipleLines  \\\n",
       "index                                                                 \n",
       "1869               0           1.0               0.0            2.0   \n",
       "4528               0           1.0               1.0            0.0   \n",
       "6344               1           1.0               1.0            2.0   \n",
       "6739               0           1.0               1.0            0.0   \n",
       "432                0           1.0               0.0            0.0   \n",
       "\n",
       "       InternetService  OnlineSecurity  OnlineBackup  DeviceProtection  \\\n",
       "index                                                                    \n",
       "1869               2.0             1.0           1.0               1.0   \n",
       "4528               1.0             0.0           2.0               2.0   \n",
       "6344               1.0             0.0           0.0               0.0   \n",
       "6739               0.0             0.0           0.0               0.0   \n",
       "432                0.0             2.0           0.0               2.0   \n",
       "\n",
       "       TechSupport  StreamingTV  StreamingMovies SeniorCitizenStr  \\\n",
       "index                                                               \n",
       "1869           1.0          1.0              1.0       no retiree   \n",
       "4528           0.0          2.0              0.0       no retiree   \n",
       "6344           0.0          0.0              0.0          retiree   \n",
       "6739           0.0          0.0              2.0       no retiree   \n",
       "432            0.0          0.0              0.0       no retiree   \n",
       "\n",
       "       Num_connected_service Churn  \n",
       "index                               \n",
       "1869                    11.0    No  \n",
       "4528                     9.0    No  \n",
       "6344                     5.0   Yes  \n",
       "6739                     4.0    No  \n",
       "432                      5.0    No  "
      ]
     },
     "execution_count": 23,
     "metadata": {},
     "output_type": "execute_result"
    }
   ],
   "source": [
    "# К дф2 добавляю значения оттока\n",
    "df_3 = df_2.copy().merge(df.Churn, left_on=df_2.index, right_on=df.Churn.index)\n",
    "# чтобы вернуть индекс\n",
    "df_3.set_index(['key_0'], inplace=True)\n",
    "df_3.index.name = 'index'\n",
    "df_3.head()"
   ]
  },
  {
   "cell_type": "code",
   "execution_count": 24,
   "metadata": {},
   "outputs": [
    {
     "data": {
      "text/plain": [
       "True"
      ]
     },
     "execution_count": 24,
     "metadata": {},
     "output_type": "execute_result"
    }
   ],
   "source": [
    "# Проверка что нет дубликатов и все \"сджоинилось\" как надо\n",
    "df_3.shape[0] == df.shape[0]"
   ]
  },
  {
   "cell_type": "code",
   "execution_count": 25,
   "metadata": {},
   "outputs": [
    {
     "data": {
      "text/plain": [
       "True"
      ]
     },
     "execution_count": 25,
     "metadata": {},
     "output_type": "execute_result"
    }
   ],
   "source": [
    "# Проверка что индексы совпадают и все \"сджоинилось\" как надо\n",
    "sum(df.index == df_3.index) == len(df)"
   ]
  },
  {
   "cell_type": "code",
   "execution_count": 26,
   "metadata": {},
   "outputs": [
    {
     "data": {
      "text/html": [
       "<div>\n",
       "<style scoped>\n",
       "    .dataframe tbody tr th:only-of-type {\n",
       "        vertical-align: middle;\n",
       "    }\n",
       "\n",
       "    .dataframe tbody tr th {\n",
       "        vertical-align: top;\n",
       "    }\n",
       "\n",
       "    .dataframe thead tr th {\n",
       "        text-align: left;\n",
       "    }\n",
       "\n",
       "    .dataframe thead tr:last-of-type th {\n",
       "        text-align: right;\n",
       "    }\n",
       "</style>\n",
       "<table border=\"1\" class=\"dataframe\">\n",
       "  <thead>\n",
       "    <tr>\n",
       "      <th></th>\n",
       "      <th colspan=\"2\" halign=\"left\">Num_connected_service</th>\n",
       "    </tr>\n",
       "    <tr>\n",
       "      <th></th>\n",
       "      <th>median</th>\n",
       "      <th>mean</th>\n",
       "    </tr>\n",
       "    <tr>\n",
       "      <th>Churn</th>\n",
       "      <th></th>\n",
       "      <th></th>\n",
       "    </tr>\n",
       "  </thead>\n",
       "  <tbody>\n",
       "    <tr>\n",
       "      <th>No</th>\n",
       "      <td>9.0</td>\n",
       "      <td>9.169357</td>\n",
       "    </tr>\n",
       "    <tr>\n",
       "      <th>Yes</th>\n",
       "      <td>7.0</td>\n",
       "      <td>7.375551</td>\n",
       "    </tr>\n",
       "  </tbody>\n",
       "</table>\n",
       "</div>"
      ],
      "text/plain": [
       "      Num_connected_service          \n",
       "                     median      mean\n",
       "Churn                                \n",
       "No                      9.0  9.169357\n",
       "Yes                     7.0  7.375551"
      ]
     },
     "execution_count": 26,
     "metadata": {},
     "output_type": "execute_result"
    }
   ],
   "source": [
    "df_3_visualizations = df_3.groupby('Churn').agg({'Num_connected_service':['median', 'mean']})\n",
    "df_3_visualizations"
   ]
  },
  {
   "cell_type": "code",
   "execution_count": 27,
   "metadata": {},
   "outputs": [
    {
     "data": {
      "image/png": "[encoded data removed]",
      "text/plain": [
       "<Figure size 432x288 with 1 Axes>"
      ]
     },
     "metadata": {
      "needs_background": "light"
     },
     "output_type": "display_data"
    }
   ],
   "source": [
    "# Указано, что везде должна быть визуализация\n",
    "data_3 = df_3_visualizations.loc[:, 'Num_connected_service']['median']\n",
    "plt.bar(data_3.index, data_3.values)\n",
    "plt.show()"
   ]
  },
  {
   "cell_type": "markdown",
   "metadata": {},
   "source": [
    "**Вывод:** Те, кто остался, имеют в среднем на 2 подключенных услуг больше\n",
    "___"
   ]
  },
  {
   "cell_type": "markdown",
   "metadata": {},
   "source": [
    "### Гипотеза 4. \n",
    "Люди, которые ушли платили больше чем те, кто остался"
   ]
  },
  {
   "cell_type": "code",
   "execution_count": 28,
   "metadata": {},
   "outputs": [
    {
     "data": {
      "text/html": [
       "<div>\n",
       "<style scoped>\n",
       "    .dataframe tbody tr th:only-of-type {\n",
       "        vertical-align: middle;\n",
       "    }\n",
       "\n",
       "    .dataframe tbody tr th {\n",
       "        vertical-align: top;\n",
       "    }\n",
       "\n",
       "    .dataframe thead th {\n",
       "        text-align: right;\n",
       "    }\n",
       "</style>\n",
       "<table border=\"1\" class=\"dataframe\">\n",
       "  <thead>\n",
       "    <tr style=\"text-align: right;\">\n",
       "      <th></th>\n",
       "      <th>MonthlyCharges</th>\n",
       "      <th>TotalCharges</th>\n",
       "      <th>Churn</th>\n",
       "    </tr>\n",
       "  </thead>\n",
       "  <tbody>\n",
       "    <tr>\n",
       "      <th>1869</th>\n",
       "      <td>24.10</td>\n",
       "      <td>1734.65</td>\n",
       "      <td>No</td>\n",
       "    </tr>\n",
       "    <tr>\n",
       "      <th>4528</th>\n",
       "      <td>88.15</td>\n",
       "      <td>3973.20</td>\n",
       "      <td>No</td>\n",
       "    </tr>\n",
       "    <tr>\n",
       "      <th>6344</th>\n",
       "      <td>74.95</td>\n",
       "      <td>2869.85</td>\n",
       "      <td>Yes</td>\n",
       "    </tr>\n",
       "    <tr>\n",
       "      <th>6739</th>\n",
       "      <td>55.90</td>\n",
       "      <td>238.50</td>\n",
       "      <td>No</td>\n",
       "    </tr>\n",
       "    <tr>\n",
       "      <th>432</th>\n",
       "      <td>53.45</td>\n",
       "      <td>119.50</td>\n",
       "      <td>No</td>\n",
       "    </tr>\n",
       "  </tbody>\n",
       "</table>\n",
       "</div>"
      ],
      "text/plain": [
       "      MonthlyCharges  TotalCharges Churn\n",
       "1869           24.10       1734.65    No\n",
       "4528           88.15       3973.20    No\n",
       "6344           74.95       2869.85   Yes\n",
       "6739           55.90        238.50    No\n",
       "432            53.45        119.50    No"
      ]
     },
     "execution_count": 28,
     "metadata": {},
     "output_type": "execute_result"
    }
   ],
   "source": [
    "df_4 = df.copy().loc[:, 'MonthlyCharges':]\n",
    "df_4['TotalCharges'] = pd.to_numeric(df.TotalCharges, errors='coerce')\n",
    "df_4.head()"
   ]
  },
  {
   "cell_type": "code",
   "execution_count": 29,
   "metadata": {},
   "outputs": [
    {
     "data": {
      "text/html": [
       "<div>\n",
       "<style scoped>\n",
       "    .dataframe tbody tr th:only-of-type {\n",
       "        vertical-align: middle;\n",
       "    }\n",
       "\n",
       "    .dataframe tbody tr th {\n",
       "        vertical-align: top;\n",
       "    }\n",
       "\n",
       "    .dataframe thead th {\n",
       "        text-align: right;\n",
       "    }\n",
       "</style>\n",
       "<table border=\"1\" class=\"dataframe\">\n",
       "  <thead>\n",
       "    <tr style=\"text-align: right;\">\n",
       "      <th></th>\n",
       "      <th>MonthlyCharges</th>\n",
       "      <th>TotalCharges</th>\n",
       "    </tr>\n",
       "    <tr>\n",
       "      <th>Churn</th>\n",
       "      <th></th>\n",
       "      <th></th>\n",
       "    </tr>\n",
       "  </thead>\n",
       "  <tbody>\n",
       "    <tr>\n",
       "      <th>No</th>\n",
       "      <td>64.75</td>\n",
       "      <td>1689.45</td>\n",
       "    </tr>\n",
       "    <tr>\n",
       "      <th>Yes</th>\n",
       "      <td>79.50</td>\n",
       "      <td>706.60</td>\n",
       "    </tr>\n",
       "  </tbody>\n",
       "</table>\n",
       "</div>"
      ],
      "text/plain": [
       "       MonthlyCharges  TotalCharges\n",
       "Churn                              \n",
       "No              64.75       1689.45\n",
       "Yes             79.50        706.60"
      ]
     },
     "execution_count": 29,
     "metadata": {},
     "output_type": "execute_result"
    }
   ],
   "source": [
    "df_4.groupby('Churn').agg({'MonthlyCharges':'median', 'TotalCharges':'median'})"
   ]
  },
  {
   "cell_type": "code",
   "execution_count": 30,
   "metadata": {},
   "outputs": [
    {
     "data": {
      "image/png": "[encoded data removed]",
      "text/plain": [
       "<Figure size 864x432 with 2 Axes>"
      ]
     },
     "metadata": {
      "needs_background": "light"
     },
     "output_type": "display_data"
    }
   ],
   "source": [
    "# Указано, что везде должна быть визуализация\n",
    "fig, axs = plt.subplots(nrows=1, ncols=2, figsize=(12, 6))\n",
    "data_4 = df_4.groupby('Churn').agg({'MonthlyCharges':'median', 'TotalCharges':'median'})\n",
    "\n",
    "\n",
    "axs[0].bar(data_4.loc[:, 'MonthlyCharges'].index,\n",
    "          data_4.loc[:, 'MonthlyCharges'].values)\n",
    "axs[0].set_title('Медиана по Месячному платежу')\n",
    "axs[0].set_xlabel('Пользователи ушли')\n",
    "\n",
    "axs[1].bar(data_4.loc[:, 'TotalCharges'].index,\n",
    "          data_4.loc[:, 'TotalCharges'].values)\n",
    "axs[1].set_title('Медиана по Общей сумме')\n",
    "axs[1].set_xlabel('Пользователи ушли')\n",
    "\n",
    "plt.show()"
   ]
  },
  {
   "cell_type": "code",
   "execution_count": 31,
   "metadata": {},
   "outputs": [
    {
     "data": {
      "text/plain": [
       "1689.45"
      ]
     },
     "execution_count": 31,
     "metadata": {},
     "output_type": "execute_result"
    }
   ],
   "source": [
    "# Проверка\n",
    "df4_test = df.copy()\n",
    "df4_test['TotalCharges'] = pd.to_numeric(df.TotalCharges, errors='coerce')\n",
    "df4_test[df.Churn=='No']['TotalCharges'].median()"
   ]
  },
  {
   "cell_type": "code",
   "execution_count": 32,
   "metadata": {},
   "outputs": [
    {
     "data": {
      "text/plain": [
       "706.6"
      ]
     },
     "execution_count": 32,
     "metadata": {},
     "output_type": "execute_result"
    }
   ],
   "source": [
    "# Проверка\n",
    "df4_test[df.Churn=='Yes']['TotalCharges'].median()"
   ]
  },
  {
   "cell_type": "markdown",
   "metadata": {},
   "source": [
    "**Вывод:** Люди, переставшие пользоваться услугами имели меньшую месячную плату, но за все время заплатили больше. Возможно они пользовались услугами дольше.\n",
    "___"
   ]
  },
  {
   "cell_type": "markdown",
   "metadata": {},
   "source": [
    "### Гипотеза 5.\n",
    "Есть зависимость между длительностью контракта и оттоком"
   ]
  },
  {
   "cell_type": "code",
   "execution_count": 33,
   "metadata": {},
   "outputs": [
    {
     "data": {
      "text/html": [
       "<div>\n",
       "<style scoped>\n",
       "    .dataframe tbody tr th:only-of-type {\n",
       "        vertical-align: middle;\n",
       "    }\n",
       "\n",
       "    .dataframe tbody tr th {\n",
       "        vertical-align: top;\n",
       "    }\n",
       "\n",
       "    .dataframe thead th {\n",
       "        text-align: right;\n",
       "    }\n",
       "</style>\n",
       "<table border=\"1\" class=\"dataframe\">\n",
       "  <thead>\n",
       "    <tr style=\"text-align: right;\">\n",
       "      <th></th>\n",
       "      <th></th>\n",
       "      <th>Contract</th>\n",
       "    </tr>\n",
       "    <tr>\n",
       "      <th>Churn</th>\n",
       "      <th>Contract</th>\n",
       "      <th></th>\n",
       "    </tr>\n",
       "  </thead>\n",
       "  <tbody>\n",
       "    <tr>\n",
       "      <th rowspan=\"3\" valign=\"top\">No</th>\n",
       "      <th>Month-to-month</th>\n",
       "      <td>1871</td>\n",
       "    </tr>\n",
       "    <tr>\n",
       "      <th>Two year</th>\n",
       "      <td>1400</td>\n",
       "    </tr>\n",
       "    <tr>\n",
       "      <th>One year</th>\n",
       "      <td>1128</td>\n",
       "    </tr>\n",
       "    <tr>\n",
       "      <th rowspan=\"3\" valign=\"top\">Yes</th>\n",
       "      <th>Month-to-month</th>\n",
       "      <td>1398</td>\n",
       "    </tr>\n",
       "    <tr>\n",
       "      <th>One year</th>\n",
       "      <td>148</td>\n",
       "    </tr>\n",
       "    <tr>\n",
       "      <th>Two year</th>\n",
       "      <td>41</td>\n",
       "    </tr>\n",
       "  </tbody>\n",
       "</table>\n",
       "</div>"
      ],
      "text/plain": [
       "                      Contract\n",
       "Churn Contract                \n",
       "No    Month-to-month      1871\n",
       "      Two year            1400\n",
       "      One year            1128\n",
       "Yes   Month-to-month      1398\n",
       "      One year             148\n",
       "      Two year              41"
      ]
     },
     "execution_count": 33,
     "metadata": {},
     "output_type": "execute_result"
    }
   ],
   "source": [
    "# Поскольку нет данных о датах, буду смотреть по контрактам\n",
    "data_5 = df.groupby('Churn').agg({'Contract':'value_counts'})\n",
    "data_5"
   ]
  },
  {
   "cell_type": "markdown",
   "metadata": {},
   "source": [
    "**Вывод:** Отток не зависит от типа контракта. Видна одна и та же иерархия по типам как у тех кто остался, так и у тех, кто ушел."
   ]
  },
  {
   "cell_type": "code",
   "execution_count": 34,
   "metadata": {},
   "outputs": [
    {
     "data": {
      "image/png": "[encoded data removed]",
      "text/plain": [
       "<Figure size 720x432 with 1 Axes>"
      ]
     },
     "metadata": {
      "needs_background": "light"
     },
     "output_type": "display_data"
    }
   ],
   "source": [
    "# Предобработка перед визуализацией\n",
    "fig, ax = plt.subplots(figsize=(10, 6))\n",
    "data_5 = data_5.reset_index(level=0)\n",
    "data_5.columns=['Churn', 'Quantity']\n",
    "sns.barplot(data=data_5,\n",
    "            x='Churn',\n",
    "            y='Quantity',\n",
    "            hue=data_5.index,\n",
    "            ax=ax)\n",
    "ax.set_yticks(list(range(0, data_5.max()[1], 100)))\n",
    "plt.show()"
   ]
  },
  {
   "cell_type": "markdown",
   "metadata": {
    "id": "YnZrI40dVYSZ"
   },
   "source": [
    "# 3. Построение моделей для прогнозирования оттока"
   ]
  },
  {
   "cell_type": "markdown",
   "metadata": {},
   "source": [
    "**Часть 1:** Преобразование данных"
   ]
  },
  {
   "cell_type": "code",
   "execution_count": 35,
   "metadata": {},
   "outputs": [
    {
     "name": "stdout",
     "output_type": "stream",
     "text": [
      "<class 'pandas.core.frame.DataFrame'>\n",
      "Int64Index: 5976 entries, 1869 to 860\n",
      "Data columns (total 21 columns):\n",
      " #   Column            Non-Null Count  Dtype  \n",
      "---  ------            --------------  -----  \n",
      " 0   customerID        5976 non-null   object \n",
      " 1   gender            5976 non-null   int8   \n",
      " 2   SeniorCitizen     5976 non-null   int64  \n",
      " 3   Partner           5976 non-null   int8   \n",
      " 4   Dependents        5976 non-null   int8   \n",
      " 5   tenure            5976 non-null   int64  \n",
      " 6   PhoneService      5976 non-null   int8   \n",
      " 7   MultipleLines     5976 non-null   int8   \n",
      " 8   InternetService   5976 non-null   int8   \n",
      " 9   OnlineSecurity    5976 non-null   int8   \n",
      " 10  OnlineBackup      5976 non-null   int8   \n",
      " 11  DeviceProtection  5976 non-null   int8   \n",
      " 12  TechSupport       5976 non-null   int8   \n",
      " 13  StreamingTV       5976 non-null   int8   \n",
      " 14  StreamingMovies   5976 non-null   int8   \n",
      " 15  Contract          5976 non-null   int8   \n",
      " 16  PaperlessBilling  5976 non-null   int8   \n",
      " 17  PaymentMethod     5976 non-null   int8   \n",
      " 18  MonthlyCharges    5976 non-null   float64\n",
      " 19  TotalCharges      5976 non-null   object \n",
      " 20  Churn             5976 non-null   int8   \n",
      "dtypes: float64(1), int64(2), int8(16), object(2)\n",
      "memory usage: 373.5+ KB\n"
     ]
    }
   ],
   "source": [
    "# Так как многие классификаторы уязвимы к типам данных,\n",
    "# переведу значения некоторых столбцов к типу int\n",
    "# Копирую дф чтобы не вносить изменений в оригинальный\n",
    "df_clf = df[df.TotalCharges!=' '].copy()\n",
    "# Получаю список столбцов, к которым нужно применить .cat.codes\n",
    "category_type = df_clf.columns[~df_clf.columns.isin(['customerID', 'SeniorCitizen', 'tenure', 'MonthlyCharges', 'TotalCharges'])]\n",
    "# Изменяю тип этих столбцов к 'category' и применяю .cat.codes\n",
    "df_clf.loc[:, category_type] = df_clf.loc[:, category_type].apply(lambda x: x.astype('category').cat.codes)\n",
    "# Проверка типов данных в новом дф\n",
    "df_clf.info()"
   ]
  },
  {
   "cell_type": "code",
   "execution_count": 36,
   "metadata": {},
   "outputs": [
    {
     "data": {
      "text/plain": [
       "True"
      ]
     },
     "execution_count": 36,
     "metadata": {},
     "output_type": "execute_result"
    }
   ],
   "source": [
    "# Проверка что все как надо\n",
    "df_clf.shape == (df.shape[0]-10, df.shape[1])"
   ]
  },
  {
   "cell_type": "code",
   "execution_count": 37,
   "metadata": {},
   "outputs": [
    {
     "name": "stdout",
     "output_type": "stream",
     "text": [
      "Accuracy без трансформации: 0.7579475738984941\n",
      "Accuracy z-score: 0.7506971556051311\n",
      "Accuracy MinMaxScaler: 0.7428890128276632\n"
     ]
    }
   ],
   "source": [
    "# В большинстве колонок я привел данные к определенному масштабу -\n",
    "# колонки tenure, MonthlyCharges, TotalCharges в этот масштаб не вписываются\n",
    "\n",
    "# Стандартные импорты\n",
    "from sklearn.model_selection import train_test_split\n",
    "from sklearn.neighbors import KNeighborsClassifier\n",
    "from sklearn.metrics import accuracy_score\n",
    "\n",
    "# Разбиение данных для подсчета скора без трансформации\n",
    "x_train0, x_test0, y_train0, y_test0 = train_test_split(\n",
    "    df_clf.iloc[:, 1:-1], # не брать айди покупателя\n",
    "    df_clf.iloc[:, -1],\n",
    "    test_size=0.3,\n",
    "    random_state=17)\n",
    "\n",
    "# Обучение и предикт\n",
    "knn = KNeighborsClassifier(n_neighbors=5)\n",
    "knn_model = knn.fit(x_train0, y_train0)\n",
    "knn_prediction0 = knn.predict(x_test0)\n",
    "\n",
    "# Метрика\n",
    "accuracy = accuracy_score(y_test0, knn_prediction0)\n",
    "print(f'Accuracy без трансформации: {accuracy}')\n",
    "\n",
    "# Трансформация (использую два метода и сравню какой лучше)\n",
    "from sklearn.preprocessing import StandardScaler\n",
    "from sklearn.preprocessing import MinMaxScaler\n",
    "\n",
    "transformed_data1 = StandardScaler()\\\n",
    ".fit_transform(df_clf[['tenure', 'MonthlyCharges', 'TotalCharges']].values.reshape(-1, 1)).reshape(-1)\n",
    "\n",
    "transformed_data2 = MinMaxScaler()\\\n",
    ".fit_transform(df_clf[['tenure', 'MonthlyCharges', 'TotalCharges']].values.reshape(-1, 1)).reshape(-1)\n",
    "\n",
    "# Дф без этих трех обработанных колонок и сразу отсеку Churn\n",
    "no_three_cols = df_clf[df_clf.columns[~df_clf.columns.isin(['tenure', 'MonthlyCharges', 'TotalCharges', 'Churn'])]]\n",
    "\n",
    "# Для склеивания первой трансформации с дф\n",
    "# (df_clf.shape[0], 3) - длина датасета и ширина массива признаков, которые я трансформировал;\n",
    "# [:, 0], [:, 1], [:, 2] - чтобы брать три фичи поочередно\n",
    "tenure1 = pd.Series(transformed_data1.reshape(df_clf.shape[0], 3)[:, 0], name='tenure', index=no_three_cols.index)\n",
    "MonthlyCharges1 = pd.Series(transformed_data1.reshape(df_clf.shape[0], 3)[:, 1], name='MonthlyCharges', index=no_three_cols.index)\n",
    "TotalCharges1 = pd.Series(transformed_data1.reshape(df_clf.shape[0], 3)[:, 2], name='TotalCharges', index=no_three_cols.index)\n",
    "\n",
    "# Для склеивания второй трансформации с дф\n",
    "tenure2 = pd.Series(transformed_data2.reshape(df_clf.shape[0], 3)[:, 0], name='tenure', index=no_three_cols.index)\n",
    "MonthlyCharges2 = pd.Series(transformed_data2.reshape(df_clf.shape[0], 3)[:, 1], name='MonthlyCharges', index=no_three_cols.index)\n",
    "TotalCharges2 = pd.Series(transformed_data2.reshape(df_clf.shape[0], 3)[:, 2], name='TotalCharges', index=no_three_cols.index)\n",
    "\n",
    "# Склеивание по первой трансформации\n",
    "transform1 = pd.concat([no_three_cols, tenure1, MonthlyCharges1, TotalCharges1], axis=1)\n",
    "\n",
    "# Склеивание по второй трансформации\n",
    "transform2 = pd.concat([no_three_cols, tenure2, MonthlyCharges2, TotalCharges2], axis=1)\n",
    "\n",
    "# Разбиение\n",
    "x_train1, x_test1, y_train1, y_test1 = train_test_split(\n",
    "    transform1.iloc[:, 1:],\n",
    "    df_clf.iloc[:, -1],\n",
    "    test_size=0.3,\n",
    "    random_state=17)\n",
    "\n",
    "x_train2, x_test2, y_train2, y_test2 = train_test_split(\n",
    "    transform2.iloc[:, 1:],\n",
    "    df_clf.iloc[:, -1],\n",
    "    test_size=0.3,\n",
    "    random_state=17)\n",
    "\n",
    "# Обучение и предикт\n",
    "knn_model1 = knn.fit(x_train1, y_train1)\n",
    "knn_prediction1 = knn.predict(x_test1)\n",
    "\n",
    "knn_model2 = knn.fit(x_train2, y_train2)\n",
    "knn_prediction2 = knn.predict(x_test2)\n",
    "\n",
    "# Метрика\n",
    "accuracy1 = accuracy_score(y_test1, knn_prediction1)\n",
    "print(f'Accuracy z-score: {accuracy1}')\n",
    "\n",
    "accuracy2 = accuracy_score(y_test2, knn_prediction2)\n",
    "print(f'Accuracy MinMaxScaler: {accuracy2}')"
   ]
  },
  {
   "cell_type": "markdown",
   "metadata": {},
   "source": [
    "Трансформация немного ухудшила скор, но без нее модели не обучаются - выкидывает исключение, просит трансформировать данные\n",
    "___\n",
    "\n",
    "**Вывод:** В качестве преобразованных данных я возьму:"
   ]
  },
  {
   "cell_type": "code",
   "execution_count": 38,
   "metadata": {},
   "outputs": [
    {
     "data": {
      "text/html": [
       "<div>\n",
       "<style scoped>\n",
       "    .dataframe tbody tr th:only-of-type {\n",
       "        vertical-align: middle;\n",
       "    }\n",
       "\n",
       "    .dataframe tbody tr th {\n",
       "        vertical-align: top;\n",
       "    }\n",
       "\n",
       "    .dataframe thead th {\n",
       "        text-align: right;\n",
       "    }\n",
       "</style>\n",
       "<table border=\"1\" class=\"dataframe\">\n",
       "  <thead>\n",
       "    <tr style=\"text-align: right;\">\n",
       "      <th></th>\n",
       "      <th>gender</th>\n",
       "      <th>SeniorCitizen</th>\n",
       "      <th>Partner</th>\n",
       "      <th>Dependents</th>\n",
       "      <th>PhoneService</th>\n",
       "      <th>MultipleLines</th>\n",
       "      <th>InternetService</th>\n",
       "      <th>OnlineSecurity</th>\n",
       "      <th>OnlineBackup</th>\n",
       "      <th>DeviceProtection</th>\n",
       "      <th>TechSupport</th>\n",
       "      <th>StreamingTV</th>\n",
       "      <th>StreamingMovies</th>\n",
       "      <th>Contract</th>\n",
       "      <th>PaperlessBilling</th>\n",
       "      <th>PaymentMethod</th>\n",
       "      <th>tenure</th>\n",
       "      <th>MonthlyCharges</th>\n",
       "      <th>TotalCharges</th>\n",
       "    </tr>\n",
       "  </thead>\n",
       "  <tbody>\n",
       "    <tr>\n",
       "      <th>1869</th>\n",
       "      <td>1</td>\n",
       "      <td>0</td>\n",
       "      <td>1</td>\n",
       "      <td>1</td>\n",
       "      <td>1</td>\n",
       "      <td>2</td>\n",
       "      <td>2</td>\n",
       "      <td>1</td>\n",
       "      <td>1</td>\n",
       "      <td>1</td>\n",
       "      <td>1</td>\n",
       "      <td>1</td>\n",
       "      <td>1</td>\n",
       "      <td>2</td>\n",
       "      <td>0</td>\n",
       "      <td>1</td>\n",
       "      <td>-0.430430</td>\n",
       "      <td>-0.458810</td>\n",
       "      <td>0.554673</td>\n",
       "    </tr>\n",
       "    <tr>\n",
       "      <th>4528</th>\n",
       "      <td>0</td>\n",
       "      <td>0</td>\n",
       "      <td>0</td>\n",
       "      <td>0</td>\n",
       "      <td>1</td>\n",
       "      <td>0</td>\n",
       "      <td>1</td>\n",
       "      <td>0</td>\n",
       "      <td>2</td>\n",
       "      <td>2</td>\n",
       "      <td>0</td>\n",
       "      <td>2</td>\n",
       "      <td>0</td>\n",
       "      <td>0</td>\n",
       "      <td>1</td>\n",
       "      <td>1</td>\n",
       "      <td>-0.447019</td>\n",
       "      <td>-0.420861</td>\n",
       "      <td>1.880990</td>\n",
       "    </tr>\n",
       "    <tr>\n",
       "      <th>6344</th>\n",
       "      <td>0</td>\n",
       "      <td>1</td>\n",
       "      <td>1</td>\n",
       "      <td>0</td>\n",
       "      <td>1</td>\n",
       "      <td>2</td>\n",
       "      <td>1</td>\n",
       "      <td>0</td>\n",
       "      <td>0</td>\n",
       "      <td>0</td>\n",
       "      <td>0</td>\n",
       "      <td>0</td>\n",
       "      <td>0</td>\n",
       "      <td>0</td>\n",
       "      <td>1</td>\n",
       "      <td>0</td>\n",
       "      <td>-0.450574</td>\n",
       "      <td>-0.428682</td>\n",
       "      <td>1.227267</td>\n",
       "    </tr>\n",
       "    <tr>\n",
       "      <th>6739</th>\n",
       "      <td>1</td>\n",
       "      <td>0</td>\n",
       "      <td>0</td>\n",
       "      <td>0</td>\n",
       "      <td>1</td>\n",
       "      <td>0</td>\n",
       "      <td>0</td>\n",
       "      <td>0</td>\n",
       "      <td>0</td>\n",
       "      <td>0</td>\n",
       "      <td>0</td>\n",
       "      <td>0</td>\n",
       "      <td>2</td>\n",
       "      <td>0</td>\n",
       "      <td>1</td>\n",
       "      <td>2</td>\n",
       "      <td>-0.470719</td>\n",
       "      <td>-0.439969</td>\n",
       "      <td>-0.331780</td>\n",
       "    </tr>\n",
       "    <tr>\n",
       "      <th>432</th>\n",
       "      <td>1</td>\n",
       "      <td>0</td>\n",
       "      <td>0</td>\n",
       "      <td>0</td>\n",
       "      <td>1</td>\n",
       "      <td>0</td>\n",
       "      <td>0</td>\n",
       "      <td>2</td>\n",
       "      <td>0</td>\n",
       "      <td>2</td>\n",
       "      <td>0</td>\n",
       "      <td>0</td>\n",
       "      <td>0</td>\n",
       "      <td>0</td>\n",
       "      <td>0</td>\n",
       "      <td>2</td>\n",
       "      <td>-0.471904</td>\n",
       "      <td>-0.441420</td>\n",
       "      <td>-0.402287</td>\n",
       "    </tr>\n",
       "    <tr>\n",
       "      <th>...</th>\n",
       "      <td>...</td>\n",
       "      <td>...</td>\n",
       "      <td>...</td>\n",
       "      <td>...</td>\n",
       "      <td>...</td>\n",
       "      <td>...</td>\n",
       "      <td>...</td>\n",
       "      <td>...</td>\n",
       "      <td>...</td>\n",
       "      <td>...</td>\n",
       "      <td>...</td>\n",
       "      <td>...</td>\n",
       "      <td>...</td>\n",
       "      <td>...</td>\n",
       "      <td>...</td>\n",
       "      <td>...</td>\n",
       "      <td>...</td>\n",
       "      <td>...</td>\n",
       "      <td>...</td>\n",
       "    </tr>\n",
       "    <tr>\n",
       "      <th>3772</th>\n",
       "      <td>1</td>\n",
       "      <td>0</td>\n",
       "      <td>1</td>\n",
       "      <td>0</td>\n",
       "      <td>1</td>\n",
       "      <td>0</td>\n",
       "      <td>1</td>\n",
       "      <td>2</td>\n",
       "      <td>0</td>\n",
       "      <td>0</td>\n",
       "      <td>0</td>\n",
       "      <td>2</td>\n",
       "      <td>2</td>\n",
       "      <td>0</td>\n",
       "      <td>1</td>\n",
       "      <td>2</td>\n",
       "      <td>-0.472497</td>\n",
       "      <td>-0.416803</td>\n",
       "      <td>-0.416803</td>\n",
       "    </tr>\n",
       "    <tr>\n",
       "      <th>5191</th>\n",
       "      <td>0</td>\n",
       "      <td>0</td>\n",
       "      <td>1</td>\n",
       "      <td>1</td>\n",
       "      <td>1</td>\n",
       "      <td>2</td>\n",
       "      <td>0</td>\n",
       "      <td>2</td>\n",
       "      <td>2</td>\n",
       "      <td>2</td>\n",
       "      <td>2</td>\n",
       "      <td>2</td>\n",
       "      <td>2</td>\n",
       "      <td>2</td>\n",
       "      <td>1</td>\n",
       "      <td>1</td>\n",
       "      <td>-0.459462</td>\n",
       "      <td>-0.419113</td>\n",
       "      <td>0.829380</td>\n",
       "    </tr>\n",
       "    <tr>\n",
       "      <th>5226</th>\n",
       "      <td>1</td>\n",
       "      <td>0</td>\n",
       "      <td>1</td>\n",
       "      <td>1</td>\n",
       "      <td>1</td>\n",
       "      <td>0</td>\n",
       "      <td>2</td>\n",
       "      <td>1</td>\n",
       "      <td>1</td>\n",
       "      <td>1</td>\n",
       "      <td>1</td>\n",
       "      <td>1</td>\n",
       "      <td>1</td>\n",
       "      <td>0</td>\n",
       "      <td>1</td>\n",
       "      <td>2</td>\n",
       "      <td>-0.465979</td>\n",
       "      <td>-0.460558</td>\n",
       "      <td>-0.291758</td>\n",
       "    </tr>\n",
       "    <tr>\n",
       "      <th>5390</th>\n",
       "      <td>1</td>\n",
       "      <td>1</td>\n",
       "      <td>0</td>\n",
       "      <td>0</td>\n",
       "      <td>1</td>\n",
       "      <td>2</td>\n",
       "      <td>1</td>\n",
       "      <td>0</td>\n",
       "      <td>0</td>\n",
       "      <td>2</td>\n",
       "      <td>0</td>\n",
       "      <td>2</td>\n",
       "      <td>2</td>\n",
       "      <td>0</td>\n",
       "      <td>1</td>\n",
       "      <td>2</td>\n",
       "      <td>-0.465979</td>\n",
       "      <td>-0.414166</td>\n",
       "      <td>0.237987</td>\n",
       "    </tr>\n",
       "    <tr>\n",
       "      <th>860</th>\n",
       "      <td>1</td>\n",
       "      <td>0</td>\n",
       "      <td>0</td>\n",
       "      <td>0</td>\n",
       "      <td>1</td>\n",
       "      <td>0</td>\n",
       "      <td>2</td>\n",
       "      <td>1</td>\n",
       "      <td>1</td>\n",
       "      <td>1</td>\n",
       "      <td>1</td>\n",
       "      <td>1</td>\n",
       "      <td>1</td>\n",
       "      <td>1</td>\n",
       "      <td>0</td>\n",
       "      <td>1</td>\n",
       "      <td>-0.457684</td>\n",
       "      <td>-0.461358</td>\n",
       "      <td>-0.202144</td>\n",
       "    </tr>\n",
       "  </tbody>\n",
       "</table>\n",
       "<p>5976 rows × 19 columns</p>\n",
       "</div>"
      ],
      "text/plain": [
       "      gender  SeniorCitizen  Partner  Dependents  PhoneService  MultipleLines  \\\n",
       "1869       1              0        1           1             1              2   \n",
       "4528       0              0        0           0             1              0   \n",
       "6344       0              1        1           0             1              2   \n",
       "6739       1              0        0           0             1              0   \n",
       "432        1              0        0           0             1              0   \n",
       "...      ...            ...      ...         ...           ...            ...   \n",
       "3772       1              0        1           0             1              0   \n",
       "5191       0              0        1           1             1              2   \n",
       "5226       1              0        1           1             1              0   \n",
       "5390       1              1        0           0             1              2   \n",
       "860        1              0        0           0             1              0   \n",
       "\n",
       "      InternetService  OnlineSecurity  OnlineBackup  DeviceProtection  \\\n",
       "1869                2               1             1                 1   \n",
       "4528                1               0             2                 2   \n",
       "6344                1               0             0                 0   \n",
       "6739                0               0             0                 0   \n",
       "432                 0               2             0                 2   \n",
       "...               ...             ...           ...               ...   \n",
       "3772                1               2             0                 0   \n",
       "5191                0               2             2                 2   \n",
       "5226                2               1             1                 1   \n",
       "5390                1               0             0                 2   \n",
       "860                 2               1             1                 1   \n",
       "\n",
       "      TechSupport  StreamingTV  StreamingMovies  Contract  PaperlessBilling  \\\n",
       "1869            1            1                1         2                 0   \n",
       "4528            0            2                0         0                 1   \n",
       "6344            0            0                0         0                 1   \n",
       "6739            0            0                2         0                 1   \n",
       "432             0            0                0         0                 0   \n",
       "...           ...          ...              ...       ...               ...   \n",
       "3772            0            2                2         0                 1   \n",
       "5191            2            2                2         2                 1   \n",
       "5226            1            1                1         0                 1   \n",
       "5390            0            2                2         0                 1   \n",
       "860             1            1                1         1                 0   \n",
       "\n",
       "      PaymentMethod    tenure  MonthlyCharges  TotalCharges  \n",
       "1869              1 -0.430430       -0.458810      0.554673  \n",
       "4528              1 -0.447019       -0.420861      1.880990  \n",
       "6344              0 -0.450574       -0.428682      1.227267  \n",
       "6739              2 -0.470719       -0.439969     -0.331780  \n",
       "432               2 -0.471904       -0.441420     -0.402287  \n",
       "...             ...       ...             ...           ...  \n",
       "3772              2 -0.472497       -0.416803     -0.416803  \n",
       "5191              1 -0.459462       -0.419113      0.829380  \n",
       "5226              2 -0.465979       -0.460558     -0.291758  \n",
       "5390              2 -0.465979       -0.414166      0.237987  \n",
       "860               1 -0.457684       -0.461358     -0.202144  \n",
       "\n",
       "[5976 rows x 19 columns]"
      ]
     },
     "execution_count": 38,
     "metadata": {},
     "output_type": "execute_result"
    }
   ],
   "source": [
    "transform1.iloc[:, 1:]"
   ]
  },
  {
   "cell_type": "code",
   "execution_count": 39,
   "metadata": {},
   "outputs": [
    {
     "name": "stdout",
     "output_type": "stream",
     "text": [
      "Accuracy PCA: 0.76799\n",
      "Accuracy SVD: 0.76631\n"
     ]
    }
   ],
   "source": [
    "# Посмотрим что даст уменьшение размерности\n",
    "\n",
    "# Импорт библиотек\n",
    "from sklearn.metrics import accuracy_score\n",
    "\n",
    "# Вспомогательная функция\n",
    "def eval_model(input_x, input_y):\n",
    "    \"\"\"Обучаем и валидируем модель\"\"\"\n",
    "    X_train, X_test, y_train, y_test = train_test_split(\n",
    "        input_x, input_y, test_size=0.3, stratify=y, random_state=42\n",
    "    )\n",
    "    # Для обучения возьму неглубокое дерево решений\n",
    "    knn_model = knn.fit(X_train, y_train)\n",
    "    knn_prediction = knn.predict(X_test)\n",
    "    acc_score = accuracy_score(y_test, knn_prediction)\n",
    "    return acc_score\n",
    "\n",
    "# Первый метод\n",
    "from sklearn.decomposition import PCA\n",
    "\n",
    "# для удобства\n",
    "X = transform1.iloc[:, 1:]\n",
    "y = df_clf.Churn\n",
    "\n",
    "# Трансформация\n",
    "pca = PCA(n_components=19).fit(X)\n",
    "X_pca = pca.transform(X)\n",
    "acc_score = eval_model(X_pca, y)\n",
    "print('Accuracy PCA: %.5f' % acc_score)\n",
    "\n",
    "# Второй метод\n",
    "from sklearn.decomposition import TruncatedSVD\n",
    "\n",
    "# Трансформация\n",
    "# получаем svd разложение\n",
    "svd_model = TruncatedSVD(n_components=18).fit(X)\n",
    "# применим преобразование к исходным данным\n",
    "X_svd = svd_model.transform(X)\n",
    "acc_score = eval_model(X_svd, y)\n",
    "print('Accuracy SVD: %.5f' % acc_score)"
   ]
  },
  {
   "cell_type": "markdown",
   "metadata": {},
   "source": [
    "Снижение размерности `PCA` помогло поднять score c ~ 75 до 76 "
   ]
  },
  {
   "cell_type": "markdown",
   "metadata": {},
   "source": [
    "**Часть 2:** Построение моделей\n",
    "\n",
    "Я хочу задействовать наиболее производительные на мой взгляд алгоритмы, которые были изучены в курсе. Для выполнения задачи классификации я привел данные к числовому типу."
   ]
  },
  {
   "cell_type": "code",
   "execution_count": 40,
   "metadata": {},
   "outputs": [],
   "source": [
    "# Импорт моделей классификации, которые хочу задействовать\n",
    "from sklearn.tree import DecisionTreeClassifier\n",
    "from sklearn.svm import SVC\n",
    "from sklearn.linear_model import LogisticRegression\n",
    "\n",
    "# Для настройки гипер-параметров\n",
    "from sklearn.model_selection import GridSearchCV\n",
    "\n",
    "# Модели\n",
    "dtc = DecisionTreeClassifier(random_state=17)\n",
    "svc = SVC(random_state=17)\n",
    "lr = LogisticRegression(random_state=17, n_jobs=-1)\n",
    "\n",
    "# Параметры базовых алгоритмов\n",
    "\n",
    "dtc_params = {'max_depth': range(1, 6), \n",
    "               'max_features': range(1, 10)}\n",
    "\n",
    "svc_params = {'kernel': ['linear', 'rbf'], # SVC\n",
    "              'C': np.arange(0.1, 1, 0.2)}\n",
    "\n",
    "lr_params = {'C': np.arange(0.5, 1, 0.1)}\n",
    "\n",
    "\n",
    "# Разделяю  датасет\n",
    "X_train, X_test, Valid_train, Valid_test = train_test_split\\\n",
    "        (X_pca, y, random_state=17, test_size=0.3)"
   ]
  },
  {
   "cell_type": "code",
   "execution_count": 41,
   "metadata": {},
   "outputs": [
    {
     "name": "stdout",
     "output_type": "stream",
     "text": [
      "CPU times: total: 0 ns\n",
      "Wall time: 0 ns\n"
     ]
    }
   ],
   "source": [
    "%%time\n",
    "# Опредение объектов для всех алгоритмов\n",
    "dtc_grid = GridSearchCV(estimator=dtc, cv=5, param_grid=dtc_params, n_jobs=-1)\n",
    "svc_grid = GridSearchCV(estimator=svc, cv=5, param_grid=svc_params, n_jobs=-1)\n",
    "lr_grid = GridSearchCV(estimator=lr, cv=5, param_grid=lr_params, n_jobs=-1)"
   ]
  },
  {
   "cell_type": "code",
   "execution_count": 42,
   "metadata": {
    "scrolled": false
   },
   "outputs": [
    {
     "name": "stdout",
     "output_type": "stream",
     "text": [
      "Лучшее сочетание параметров для DecisionTreeClassifier: {'max_depth': 5, 'max_features': 4}\n",
      "Лучшее сочетание параметров для SVC: {'C': 0.5000000000000001, 'kernel': 'rbf'}\n",
      "Лучшее сочетание параметров для LogisticRegression: {'C': 0.6} \n",
      "\n",
      "CPU times: total: 1.02 s\n",
      "Wall time: 7.12 s\n"
     ]
    }
   ],
   "source": [
    "%%time\n",
    "#  Обучаю каждый из объектов и выведу лучшее сочетание параметров\n",
    "dtc_grid.fit(X_train, Valid_train)\n",
    "svc_grid.fit(X_train, Valid_train)\n",
    "lr_grid.fit(X_train, Valid_train)\n",
    "\n",
    "print(f'Лучшее сочетание параметров для DecisionTreeClassifier: {dtc_grid.best_params_}')\n",
    "print(f'Лучшее сочетание параметров для SVC: {svc_grid.best_params_}')\n",
    "print(f'Лучшее сочетание параметров для LogisticRegression: {lr_grid.best_params_} \\n')"
   ]
  },
  {
   "cell_type": "markdown",
   "metadata": {
    "id": "uyDpeHkTVYSf"
   },
   "source": [
    "# 4. Сравнение качества моделей "
   ]
  },
  {
   "cell_type": "code",
   "execution_count": 43,
   "metadata": {},
   "outputs": [
    {
     "name": "stdout",
     "output_type": "stream",
     "text": [
      "accuracy for dtc: 0.76352\n",
      "accuracy for svc: 0.79141\n",
      "accuracy for lr: 0.78137\n"
     ]
    }
   ],
   "source": [
    "# В качестве метрики я выбрал долю правильных ответов\n",
    "# Делаю предсказания\n",
    "dtc_prediction = dtc_grid.predict(X_test)\n",
    "svc_prediction = svc_grid.predict(X_test)\n",
    "lr_prediction = lr_grid.predict(X_test)\n",
    "\n",
    "# Считаю accuracy_score\n",
    "ac_dtc = accuracy_score(Valid_test, dtc_prediction)\n",
    "ac_svc = accuracy_score(Valid_test, svc_prediction)\n",
    "ac_lr = accuracy_score(Valid_test, lr_prediction)\n",
    "\n",
    "print('accuracy for dtc: %.5f' % ac_dtc)\n",
    "print('accuracy for svc: %.5f' % ac_svc)\n",
    "print('accuracy for lr: %.5f' % ac_lr)"
   ]
  },
  {
   "cell_type": "markdown",
   "metadata": {},
   "source": [
    "**Вывод:** Метод опорных векторов из всех трех моделей отработал лучше всего. Мной была проделана работа по анализу, предобработке данных и построению моделей машинного обучения с целью получить предсказания оттока."
   ]
  }
 ],
 "metadata": {
  "colab": {
   "collapsed_sections": [],
   "name": "Coursework_ML.ipynb",
   "provenance": []
  },
  "kernelspec": {
   "display_name": "Python 3 (ipykernel)",
   "language": "python",
   "name": "python3"
  },
  "language_info": {
   "codemirror_mode": {
    "name": "ipython",
    "version": 3
   },
   "file_extension": ".py",
   "mimetype": "text/x-python",
   "name": "python",
   "nbconvert_exporter": "python",
   "pygments_lexer": "ipython3",
   "version": "3.8.2"
  }
 },
 "nbformat": 4,
 "nbformat_minor": 1
}
